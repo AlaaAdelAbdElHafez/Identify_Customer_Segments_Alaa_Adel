{
  "nbformat": 4,
  "nbformat_minor": 0,
  "metadata": {
    "kernelspec": {
      "display_name": "Python 3",
      "language": "python",
      "name": "python3"
    },
    "language_info": {
      "codemirror_mode": {
        "name": "ipython",
        "version": 3
      },
      "file_extension": ".py",
      "mimetype": "text/x-python",
      "name": "python",
      "nbconvert_exporter": "python",
      "pygments_lexer": "ipython3",
      "version": "3.6.3"
    },
    "colab": {
      "name": "Identify_Customer_Segments_Alaa Adel.ipynb",
      "provenance": [],
      "collapsed_sections": [
        "83exSZpYkIG8",
        "egMtagu0kIG9",
        "xEKJTvxwkIG-"
      ]
    }
  },
  "cells": [
    {
      "cell_type": "markdown",
      "metadata": {
        "id": "xvE-s93WkIG1"
      },
      "source": [
        "# Project: Identify Customer Segments\n",
        "\n",
        "In this project, you will apply unsupervised learning techniques to identify segments of the population that form the core customer base for a mail-order sales company in Germany. These segments can then be used to direct marketing campaigns towards audiences that will have the highest expected rate of returns. The data that you will use has been provided by our partners at Bertelsmann Arvato Analytics, and represents a real-life data science task.\n",
        "\n",
        "This notebook will help you complete this task by providing a framework within which you will perform your analysis steps. In each step of the project, you will see some text describing the subtask that you will perform, followed by one or more code cells for you to complete your work. **Feel free to add additional code and markdown cells as you go along so that you can explore everything in precise chunks.** The code cells provided in the base template will outline only the major tasks, and will usually not be enough to cover all of the minor tasks that comprise it.\n",
        "\n",
        "It should be noted that while there will be precise guidelines on how you should handle certain tasks in the project, there will also be places where an exact specification is not provided. **There will be times in the project where you will need to make and justify your own decisions on how to treat the data.** These are places where there may not be only one way to handle the data. In real-life tasks, there may be many valid ways to approach an analysis task. One of the most important things you can do is clearly document your approach so that other scientists can understand the decisions you've made.\n",
        "\n",
        "At the end of most sections, there will be a Markdown cell labeled **Discussion**. In these cells, you will report your findings for the completed section, as well as document the decisions that you made in your approach to each subtask. **Your project will be evaluated not just on the code used to complete the tasks outlined, but also your communication about your observations and conclusions at each stage.**"
      ]
    },
    {
      "cell_type": "code",
      "metadata": {
        "colab": {
          "base_uri": "https://localhost:8080/",
          "height": 52
        },
        "id": "egdHSYA2kIG3",
        "outputId": "e21a9c93-c7fe-4abf-e24b-9fa517a83ad8"
      },
      "source": [
        "# import libraries here; add more as necessary\n",
        "import numpy as np\n",
        "import pandas as pd\n",
        "import matplotlib.pyplot as plt\n",
        "import seaborn as sns\n",
        "\n",
        "# magic word for producing visualizations in notebook\n",
        "%matplotlib inline\n",
        "\n",
        "'''\n",
        "Import note: The classroom currently uses sklearn version 0.19.\n",
        "If you need to use an imputer, it is available in sklearn.preprocessing.Imputer,\n",
        "instead of sklearn.impute as in newer versions of sklearn.\n",
        "'''"
      ],
      "execution_count": 35,
      "outputs": [
        {
          "output_type": "execute_result",
          "data": {
            "application/vnd.google.colaboratory.intrinsic+json": {
              "type": "string"
            },
            "text/plain": [
              "'\\nImport note: The classroom currently uses sklearn version 0.19.\\nIf you need to use an imputer, it is available in sklearn.preprocessing.Imputer,\\ninstead of sklearn.impute as in newer versions of sklearn.\\n'"
            ]
          },
          "metadata": {},
          "execution_count": 35
        }
      ]
    },
    {
      "cell_type": "markdown",
      "metadata": {
        "id": "nq51AqT0kIG4"
      },
      "source": [
        "### Step 0: Load the Data\n",
        "\n",
        "There are four files associated with this project (not including this one):\n",
        "\n",
        "- `Udacity_AZDIAS_Subset.csv`: Demographics data for the general population of Germany; 891211 persons (rows) x 85 features (columns).\n",
        "- `Udacity_CUSTOMERS_Subset.csv`: Demographics data for customers of a mail-order company; 191652 persons (rows) x 85 features (columns).\n",
        "- `Data_Dictionary.md`: Detailed information file about the features in the provided datasets.\n",
        "- `AZDIAS_Feature_Summary.csv`: Summary of feature attributes for demographics data; 85 features (rows) x 4 columns\n",
        "\n",
        "Each row of the demographics files represents a single person, but also includes information outside of individuals, including information about their household, building, and neighborhood. You will use this information to cluster the general population into groups with similar demographic properties. Then, you will see how the people in the customers dataset fit into those created clusters. The hope here is that certain clusters are over-represented in the customers data, as compared to the general population; those over-represented clusters will be assumed to be part of the core userbase. This information can then be used for further applications, such as targeting for a marketing campaign.\n",
        "\n",
        "To start off with, load in the demographics data for the general population into a pandas DataFrame, and do the same for the feature attributes summary. Note for all of the `.csv` data files in this project: they're semicolon (`;`) delimited, so you'll need an additional argument in your [`read_csv()`](https://pandas.pydata.org/pandas-docs/stable/generated/pandas.read_csv.html) call to read in the data properly. Also, considering the size of the main dataset, it may take some time for it to load completely.\n",
        "\n",
        "Once the dataset is loaded, it's recommended that you take a little bit of time just browsing the general structure of the dataset and feature summary file. You'll be getting deep into the innards of the cleaning in the first major step of the project, so gaining some general familiarity can help you get your bearings."
      ]
    },
    {
      "cell_type": "code",
      "metadata": {
        "colab": {
          "resources": {
            "http://localhost:8080/nbextensions/google.colab/files.js": {
              "data": "Ly8gQ29weXJpZ2h0IDIwMTcgR29vZ2xlIExMQwovLwovLyBMaWNlbnNlZCB1bmRlciB0aGUgQXBhY2hlIExpY2Vuc2UsIFZlcnNpb24gMi4wICh0aGUgIkxpY2Vuc2UiKTsKLy8geW91IG1heSBub3QgdXNlIHRoaXMgZmlsZSBleGNlcHQgaW4gY29tcGxpYW5jZSB3aXRoIHRoZSBMaWNlbnNlLgovLyBZb3UgbWF5IG9idGFpbiBhIGNvcHkgb2YgdGhlIExpY2Vuc2UgYXQKLy8KLy8gICAgICBodHRwOi8vd3d3LmFwYWNoZS5vcmcvbGljZW5zZXMvTElDRU5TRS0yLjAKLy8KLy8gVW5sZXNzIHJlcXVpcmVkIGJ5IGFwcGxpY2FibGUgbGF3IG9yIGFncmVlZCB0byBpbiB3cml0aW5nLCBzb2Z0d2FyZQovLyBkaXN0cmlidXRlZCB1bmRlciB0aGUgTGljZW5zZSBpcyBkaXN0cmlidXRlZCBvbiBhbiAiQVMgSVMiIEJBU0lTLAovLyBXSVRIT1VUIFdBUlJBTlRJRVMgT1IgQ09ORElUSU9OUyBPRiBBTlkgS0lORCwgZWl0aGVyIGV4cHJlc3Mgb3IgaW1wbGllZC4KLy8gU2VlIHRoZSBMaWNlbnNlIGZvciB0aGUgc3BlY2lmaWMgbGFuZ3VhZ2UgZ292ZXJuaW5nIHBlcm1pc3Npb25zIGFuZAovLyBsaW1pdGF0aW9ucyB1bmRlciB0aGUgTGljZW5zZS4KCi8qKgogKiBAZmlsZW92ZXJ2aWV3IEhlbHBlcnMgZm9yIGdvb2dsZS5jb2xhYiBQeXRob24gbW9kdWxlLgogKi8KKGZ1bmN0aW9uKHNjb3BlKSB7CmZ1bmN0aW9uIHNwYW4odGV4dCwgc3R5bGVBdHRyaWJ1dGVzID0ge30pIHsKICBjb25zdCBlbGVtZW50ID0gZG9jdW1lbnQuY3JlYXRlRWxlbWVudCgnc3BhbicpOwogIGVsZW1lbnQudGV4dENvbnRlbnQgPSB0ZXh0OwogIGZvciAoY29uc3Qga2V5IG9mIE9iamVjdC5rZXlzKHN0eWxlQXR0cmlidXRlcykpIHsKICAgIGVsZW1lbnQuc3R5bGVba2V5XSA9IHN0eWxlQXR0cmlidXRlc1trZXldOwogIH0KICByZXR1cm4gZWxlbWVudDsKfQoKLy8gTWF4IG51bWJlciBvZiBieXRlcyB3aGljaCB3aWxsIGJlIHVwbG9hZGVkIGF0IGEgdGltZS4KY29uc3QgTUFYX1BBWUxPQURfU0laRSA9IDEwMCAqIDEwMjQ7CgpmdW5jdGlvbiBfdXBsb2FkRmlsZXMoaW5wdXRJZCwgb3V0cHV0SWQpIHsKICBjb25zdCBzdGVwcyA9IHVwbG9hZEZpbGVzU3RlcChpbnB1dElkLCBvdXRwdXRJZCk7CiAgY29uc3Qgb3V0cHV0RWxlbWVudCA9IGRvY3VtZW50LmdldEVsZW1lbnRCeUlkKG91dHB1dElkKTsKICAvLyBDYWNoZSBzdGVwcyBvbiB0aGUgb3V0cHV0RWxlbWVudCB0byBtYWtlIGl0IGF2YWlsYWJsZSBmb3IgdGhlIG5leHQgY2FsbAogIC8vIHRvIHVwbG9hZEZpbGVzQ29udGludWUgZnJvbSBQeXRob24uCiAgb3V0cHV0RWxlbWVudC5zdGVwcyA9IHN0ZXBzOwoKICByZXR1cm4gX3VwbG9hZEZpbGVzQ29udGludWUob3V0cHV0SWQpOwp9CgovLyBUaGlzIGlzIHJvdWdobHkgYW4gYXN5bmMgZ2VuZXJhdG9yIChub3Qgc3VwcG9ydGVkIGluIHRoZSBicm93c2VyIHlldCksCi8vIHdoZXJlIHRoZXJlIGFyZSBtdWx0aXBsZSBhc3luY2hyb25vdXMgc3RlcHMgYW5kIHRoZSBQeXRob24gc2lkZSBpcyBnb2luZwovLyB0byBwb2xsIGZvciBjb21wbGV0aW9uIG9mIGVhY2ggc3RlcC4KLy8gVGhpcyB1c2VzIGEgUHJvbWlzZSB0byBibG9jayB0aGUgcHl0aG9uIHNpZGUgb24gY29tcGxldGlvbiBvZiBlYWNoIHN0ZXAsCi8vIHRoZW4gcGFzc2VzIHRoZSByZXN1bHQgb2YgdGhlIHByZXZpb3VzIHN0ZXAgYXMgdGhlIGlucHV0IHRvIHRoZSBuZXh0IHN0ZXAuCmZ1bmN0aW9uIF91cGxvYWRGaWxlc0NvbnRpbnVlKG91dHB1dElkKSB7CiAgY29uc3Qgb3V0cHV0RWxlbWVudCA9IGRvY3VtZW50LmdldEVsZW1lbnRCeUlkKG91dHB1dElkKTsKICBjb25zdCBzdGVwcyA9IG91dHB1dEVsZW1lbnQuc3RlcHM7CgogIGNvbnN0IG5leHQgPSBzdGVwcy5uZXh0KG91dHB1dEVsZW1lbnQubGFzdFByb21pc2VWYWx1ZSk7CiAgcmV0dXJuIFByb21pc2UucmVzb2x2ZShuZXh0LnZhbHVlLnByb21pc2UpLnRoZW4oKHZhbHVlKSA9PiB7CiAgICAvLyBDYWNoZSB0aGUgbGFzdCBwcm9taXNlIHZhbHVlIHRvIG1ha2UgaXQgYXZhaWxhYmxlIHRvIHRoZSBuZXh0CiAgICAvLyBzdGVwIG9mIHRoZSBnZW5lcmF0b3IuCiAgICBvdXRwdXRFbGVtZW50Lmxhc3RQcm9taXNlVmFsdWUgPSB2YWx1ZTsKICAgIHJldHVybiBuZXh0LnZhbHVlLnJlc3BvbnNlOwogIH0pOwp9CgovKioKICogR2VuZXJhdG9yIGZ1bmN0aW9uIHdoaWNoIGlzIGNhbGxlZCBiZXR3ZWVuIGVhY2ggYXN5bmMgc3RlcCBvZiB0aGUgdXBsb2FkCiAqIHByb2Nlc3MuCiAqIEBwYXJhbSB7c3RyaW5nfSBpbnB1dElkIEVsZW1lbnQgSUQgb2YgdGhlIGlucHV0IGZpbGUgcGlja2VyIGVsZW1lbnQuCiAqIEBwYXJhbSB7c3RyaW5nfSBvdXRwdXRJZCBFbGVtZW50IElEIG9mIHRoZSBvdXRwdXQgZGlzcGxheS4KICogQHJldHVybiB7IUl0ZXJhYmxlPCFPYmplY3Q+fSBJdGVyYWJsZSBvZiBuZXh0IHN0ZXBzLgogKi8KZnVuY3Rpb24qIHVwbG9hZEZpbGVzU3RlcChpbnB1dElkLCBvdXRwdXRJZCkgewogIGNvbnN0IGlucHV0RWxlbWVudCA9IGRvY3VtZW50LmdldEVsZW1lbnRCeUlkKGlucHV0SWQpOwogIGlucHV0RWxlbWVudC5kaXNhYmxlZCA9IGZhbHNlOwoKICBjb25zdCBvdXRwdXRFbGVtZW50ID0gZG9jdW1lbnQuZ2V0RWxlbWVudEJ5SWQob3V0cHV0SWQpOwogIG91dHB1dEVsZW1lbnQuaW5uZXJIVE1MID0gJyc7CgogIGNvbnN0IHBpY2tlZFByb21pc2UgPSBuZXcgUHJvbWlzZSgocmVzb2x2ZSkgPT4gewogICAgaW5wdXRFbGVtZW50LmFkZEV2ZW50TGlzdGVuZXIoJ2NoYW5nZScsIChlKSA9PiB7CiAgICAgIHJlc29sdmUoZS50YXJnZXQuZmlsZXMpOwogICAgfSk7CiAgfSk7CgogIGNvbnN0IGNhbmNlbCA9IGRvY3VtZW50LmNyZWF0ZUVsZW1lbnQoJ2J1dHRvbicpOwogIGlucHV0RWxlbWVudC5wYXJlbnRFbGVtZW50LmFwcGVuZENoaWxkKGNhbmNlbCk7CiAgY2FuY2VsLnRleHRDb250ZW50ID0gJ0NhbmNlbCB1cGxvYWQnOwogIGNvbnN0IGNhbmNlbFByb21pc2UgPSBuZXcgUHJvbWlzZSgocmVzb2x2ZSkgPT4gewogICAgY2FuY2VsLm9uY2xpY2sgPSAoKSA9PiB7CiAgICAgIHJlc29sdmUobnVsbCk7CiAgICB9OwogIH0pOwoKICAvLyBXYWl0IGZvciB0aGUgdXNlciB0byBwaWNrIHRoZSBmaWxlcy4KICBjb25zdCBmaWxlcyA9IHlpZWxkIHsKICAgIHByb21pc2U6IFByb21pc2UucmFjZShbcGlja2VkUHJvbWlzZSwgY2FuY2VsUHJvbWlzZV0pLAogICAgcmVzcG9uc2U6IHsKICAgICAgYWN0aW9uOiAnc3RhcnRpbmcnLAogICAgfQogIH07CgogIGNhbmNlbC5yZW1vdmUoKTsKCiAgLy8gRGlzYWJsZSB0aGUgaW5wdXQgZWxlbWVudCBzaW5jZSBmdXJ0aGVyIHBpY2tzIGFyZSBub3QgYWxsb3dlZC4KICBpbnB1dEVsZW1lbnQuZGlzYWJsZWQgPSB0cnVlOwoKICBpZiAoIWZpbGVzKSB7CiAgICByZXR1cm4gewogICAgICByZXNwb25zZTogewogICAgICAgIGFjdGlvbjogJ2NvbXBsZXRlJywKICAgICAgfQogICAgfTsKICB9CgogIGZvciAoY29uc3QgZmlsZSBvZiBmaWxlcykgewogICAgY29uc3QgbGkgPSBkb2N1bWVudC5jcmVhdGVFbGVtZW50KCdsaScpOwogICAgbGkuYXBwZW5kKHNwYW4oZmlsZS5uYW1lLCB7Zm9udFdlaWdodDogJ2JvbGQnfSkpOwogICAgbGkuYXBwZW5kKHNwYW4oCiAgICAgICAgYCgke2ZpbGUudHlwZSB8fCAnbi9hJ30pIC0gJHtmaWxlLnNpemV9IGJ5dGVzLCBgICsKICAgICAgICBgbGFzdCBtb2RpZmllZDogJHsKICAgICAgICAgICAgZmlsZS5sYXN0TW9kaWZpZWREYXRlID8gZmlsZS5sYXN0TW9kaWZpZWREYXRlLnRvTG9jYWxlRGF0ZVN0cmluZygpIDoKICAgICAgICAgICAgICAgICAgICAgICAgICAgICAgICAgICAgJ24vYSd9IC0gYCkpOwogICAgY29uc3QgcGVyY2VudCA9IHNwYW4oJzAlIGRvbmUnKTsKICAgIGxpLmFwcGVuZENoaWxkKHBlcmNlbnQpOwoKICAgIG91dHB1dEVsZW1lbnQuYXBwZW5kQ2hpbGQobGkpOwoKICAgIGNvbnN0IGZpbGVEYXRhUHJvbWlzZSA9IG5ldyBQcm9taXNlKChyZXNvbHZlKSA9PiB7CiAgICAgIGNvbnN0IHJlYWRlciA9IG5ldyBGaWxlUmVhZGVyKCk7CiAgICAgIHJlYWRlci5vbmxvYWQgPSAoZSkgPT4gewogICAgICAgIHJlc29sdmUoZS50YXJnZXQucmVzdWx0KTsKICAgICAgfTsKICAgICAgcmVhZGVyLnJlYWRBc0FycmF5QnVmZmVyKGZpbGUpOwogICAgfSk7CiAgICAvLyBXYWl0IGZvciB0aGUgZGF0YSB0byBiZSByZWFkeS4KICAgIGxldCBmaWxlRGF0YSA9IHlpZWxkIHsKICAgICAgcHJvbWlzZTogZmlsZURhdGFQcm9taXNlLAogICAgICByZXNwb25zZTogewogICAgICAgIGFjdGlvbjogJ2NvbnRpbnVlJywKICAgICAgfQogICAgfTsKCiAgICAvLyBVc2UgYSBjaHVua2VkIHNlbmRpbmcgdG8gYXZvaWQgbWVzc2FnZSBzaXplIGxpbWl0cy4gU2VlIGIvNjIxMTU2NjAuCiAgICBsZXQgcG9zaXRpb24gPSAwOwogICAgZG8gewogICAgICBjb25zdCBsZW5ndGggPSBNYXRoLm1pbihmaWxlRGF0YS5ieXRlTGVuZ3RoIC0gcG9zaXRpb24sIE1BWF9QQVlMT0FEX1NJWkUpOwogICAgICBjb25zdCBjaHVuayA9IG5ldyBVaW50OEFycmF5KGZpbGVEYXRhLCBwb3NpdGlvbiwgbGVuZ3RoKTsKICAgICAgcG9zaXRpb24gKz0gbGVuZ3RoOwoKICAgICAgY29uc3QgYmFzZTY0ID0gYnRvYShTdHJpbmcuZnJvbUNoYXJDb2RlLmFwcGx5KG51bGwsIGNodW5rKSk7CiAgICAgIHlpZWxkIHsKICAgICAgICByZXNwb25zZTogewogICAgICAgICAgYWN0aW9uOiAnYXBwZW5kJywKICAgICAgICAgIGZpbGU6IGZpbGUubmFtZSwKICAgICAgICAgIGRhdGE6IGJhc2U2NCwKICAgICAgICB9LAogICAgICB9OwoKICAgICAgbGV0IHBlcmNlbnREb25lID0gZmlsZURhdGEuYnl0ZUxlbmd0aCA9PT0gMCA/CiAgICAgICAgICAxMDAgOgogICAgICAgICAgTWF0aC5yb3VuZCgocG9zaXRpb24gLyBmaWxlRGF0YS5ieXRlTGVuZ3RoKSAqIDEwMCk7CiAgICAgIHBlcmNlbnQudGV4dENvbnRlbnQgPSBgJHtwZXJjZW50RG9uZX0lIGRvbmVgOwoKICAgIH0gd2hpbGUgKHBvc2l0aW9uIDwgZmlsZURhdGEuYnl0ZUxlbmd0aCk7CiAgfQoKICAvLyBBbGwgZG9uZS4KICB5aWVsZCB7CiAgICByZXNwb25zZTogewogICAgICBhY3Rpb246ICdjb21wbGV0ZScsCiAgICB9CiAgfTsKfQoKc2NvcGUuZ29vZ2xlID0gc2NvcGUuZ29vZ2xlIHx8IHt9OwpzY29wZS5nb29nbGUuY29sYWIgPSBzY29wZS5nb29nbGUuY29sYWIgfHwge307CnNjb3BlLmdvb2dsZS5jb2xhYi5fZmlsZXMgPSB7CiAgX3VwbG9hZEZpbGVzLAogIF91cGxvYWRGaWxlc0NvbnRpbnVlLAp9Owp9KShzZWxmKTsK",
              "ok": true,
              "headers": [
                [
                  "content-type",
                  "application/javascript"
                ]
              ],
              "status": 200,
              "status_text": ""
            }
          },
          "base_uri": "https://localhost:8080/",
          "height": 73
        },
        "id": "rkGkWespkIG4",
        "outputId": "5cfa621b-64fd-4ed5-ecb9-3d8790b3ed15"
      },
      "source": [
        "# Load in the general demographics data.\n",
        "import io\n",
        "from google.colab import files\n",
        "uploaded = files.upload()\n",
        "# Load the Census dataset\n",
        "#data = pd.read_csv(\"census.csv\")\n",
        "azdias = pd.read_csv(io.BytesIO(uploaded['Udacity_AZDIAS_Subset.csv']),delimiter=\";\")\n",
        "\n"
      ],
      "execution_count": 36,
      "outputs": [
        {
          "output_type": "display_data",
          "data": {
            "text/html": [
              "\n",
              "     <input type=\"file\" id=\"files-d7c869f7-63f8-48b0-8f6d-08c4496a0315\" name=\"files[]\" multiple disabled\n",
              "        style=\"border:none\" />\n",
              "     <output id=\"result-d7c869f7-63f8-48b0-8f6d-08c4496a0315\">\n",
              "      Upload widget is only available when the cell has been executed in the\n",
              "      current browser session. Please rerun this cell to enable.\n",
              "      </output>\n",
              "      <script src=\"/nbextensions/google.colab/files.js\"></script> "
            ],
            "text/plain": [
              "<IPython.core.display.HTML object>"
            ]
          },
          "metadata": {}
        },
        {
          "output_type": "stream",
          "text": [
            "Saving Udacity_AZDIAS_Subset.csv to Udacity_AZDIAS_Subset (1).csv\n"
          ],
          "name": "stdout"
        }
      ]
    },
    {
      "cell_type": "code",
      "metadata": {
        "colab": {
          "resources": {
            "http://localhost:8080/nbextensions/google.colab/files.js": {
              "data": "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",
              "ok": true,
              "headers": [
                [
                  "content-type",
                  "application/javascript"
                ]
              ],
              "status": 200,
              "status_text": ""
            }
          },
          "base_uri": "https://localhost:8080/",
          "height": 73
        },
        "id": "_MEypy5atA8_",
        "outputId": "c14a77de-0962-435a-c292-0b58b6f58835"
      },
      "source": [
        "# Load in the feature summary file.\n",
        "import io\n",
        "from google.colab import files\n",
        "uploaded = files.upload()\n",
        "feat_info = pd.read_csv(io.BytesIO(uploaded['AZDIAS_Feature_Summary.csv']),delimiter=\";\")\n"
      ],
      "execution_count": 37,
      "outputs": [
        {
          "output_type": "display_data",
          "data": {
            "text/html": [
              "\n",
              "     <input type=\"file\" id=\"files-775f1d60-c4c1-4ab9-b110-d7139dadcf71\" name=\"files[]\" multiple disabled\n",
              "        style=\"border:none\" />\n",
              "     <output id=\"result-775f1d60-c4c1-4ab9-b110-d7139dadcf71\">\n",
              "      Upload widget is only available when the cell has been executed in the\n",
              "      current browser session. Please rerun this cell to enable.\n",
              "      </output>\n",
              "      <script src=\"/nbextensions/google.colab/files.js\"></script> "
            ],
            "text/plain": [
              "<IPython.core.display.HTML object>"
            ]
          },
          "metadata": {}
        },
        {
          "output_type": "stream",
          "text": [
            "Saving AZDIAS_Feature_Summary.csv to AZDIAS_Feature_Summary (1).csv\n"
          ],
          "name": "stdout"
        }
      ]
    },
    {
      "cell_type": "code",
      "metadata": {
        "colab": {
          "base_uri": "https://localhost:8080/",
          "height": 352
        },
        "id": "gTzyo_LOkIG5",
        "outputId": "d5aadb71-d6f1-4df6-affb-026ac8dde1c9"
      },
      "source": [
        "# Check the structure of the data after it's loaded (e.g. print the number of\n",
        "# rows and columns, print the first few rows).\n",
        "display(azdias.head(n=3))\n",
        "print(azdias.shape)\n",
        "display(feat_info.head(n=3))\n",
        "print(feat_info.shape)"
      ],
      "execution_count": 38,
      "outputs": [
        {
          "output_type": "display_data",
          "data": {
            "text/html": [
              "<div>\n",
              "<style scoped>\n",
              "    .dataframe tbody tr th:only-of-type {\n",
              "        vertical-align: middle;\n",
              "    }\n",
              "\n",
              "    .dataframe tbody tr th {\n",
              "        vertical-align: top;\n",
              "    }\n",
              "\n",
              "    .dataframe thead th {\n",
              "        text-align: right;\n",
              "    }\n",
              "</style>\n",
              "<table border=\"1\" class=\"dataframe\">\n",
              "  <thead>\n",
              "    <tr style=\"text-align: right;\">\n",
              "      <th></th>\n",
              "      <th>AGER_TYP</th>\n",
              "      <th>ALTERSKATEGORIE_GROB</th>\n",
              "      <th>ANREDE_KZ</th>\n",
              "      <th>CJT_GESAMTTYP</th>\n",
              "      <th>FINANZ_MINIMALIST</th>\n",
              "      <th>FINANZ_SPARER</th>\n",
              "      <th>FINANZ_VORSORGER</th>\n",
              "      <th>FINANZ_ANLEGER</th>\n",
              "      <th>FINANZ_UNAUFFAELLIGER</th>\n",
              "      <th>FINANZ_HAUSBAUER</th>\n",
              "      <th>FINANZTYP</th>\n",
              "      <th>GEBURTSJAHR</th>\n",
              "      <th>GFK_URLAUBERTYP</th>\n",
              "      <th>GREEN_AVANTGARDE</th>\n",
              "      <th>HEALTH_TYP</th>\n",
              "      <th>LP_LEBENSPHASE_FEIN</th>\n",
              "      <th>LP_LEBENSPHASE_GROB</th>\n",
              "      <th>LP_FAMILIE_FEIN</th>\n",
              "      <th>LP_FAMILIE_GROB</th>\n",
              "      <th>LP_STATUS_FEIN</th>\n",
              "      <th>LP_STATUS_GROB</th>\n",
              "      <th>NATIONALITAET_KZ</th>\n",
              "      <th>PRAEGENDE_JUGENDJAHRE</th>\n",
              "      <th>RETOURTYP_BK_S</th>\n",
              "      <th>SEMIO_SOZ</th>\n",
              "      <th>SEMIO_FAM</th>\n",
              "      <th>SEMIO_REL</th>\n",
              "      <th>SEMIO_MAT</th>\n",
              "      <th>SEMIO_VERT</th>\n",
              "      <th>SEMIO_LUST</th>\n",
              "      <th>SEMIO_ERL</th>\n",
              "      <th>SEMIO_KULT</th>\n",
              "      <th>SEMIO_RAT</th>\n",
              "      <th>SEMIO_KRIT</th>\n",
              "      <th>SEMIO_DOM</th>\n",
              "      <th>SEMIO_KAEM</th>\n",
              "      <th>SEMIO_PFLICHT</th>\n",
              "      <th>SEMIO_TRADV</th>\n",
              "      <th>SHOPPER_TYP</th>\n",
              "      <th>SOHO_KZ</th>\n",
              "      <th>...</th>\n",
              "      <th>ANZ_TITEL</th>\n",
              "      <th>HH_EINKOMMEN_SCORE</th>\n",
              "      <th>KK_KUNDENTYP</th>\n",
              "      <th>W_KEIT_KIND_HH</th>\n",
              "      <th>WOHNDAUER_2008</th>\n",
              "      <th>ANZ_HAUSHALTE_AKTIV</th>\n",
              "      <th>ANZ_HH_TITEL</th>\n",
              "      <th>GEBAEUDETYP</th>\n",
              "      <th>KONSUMNAEHE</th>\n",
              "      <th>MIN_GEBAEUDEJAHR</th>\n",
              "      <th>OST_WEST_KZ</th>\n",
              "      <th>WOHNLAGE</th>\n",
              "      <th>CAMEO_DEUG_2015</th>\n",
              "      <th>CAMEO_DEU_2015</th>\n",
              "      <th>CAMEO_INTL_2015</th>\n",
              "      <th>KBA05_ANTG1</th>\n",
              "      <th>KBA05_ANTG2</th>\n",
              "      <th>KBA05_ANTG3</th>\n",
              "      <th>KBA05_ANTG4</th>\n",
              "      <th>KBA05_BAUMAX</th>\n",
              "      <th>KBA05_GBZ</th>\n",
              "      <th>BALLRAUM</th>\n",
              "      <th>EWDICHTE</th>\n",
              "      <th>INNENSTADT</th>\n",
              "      <th>GEBAEUDETYP_RASTER</th>\n",
              "      <th>KKK</th>\n",
              "      <th>MOBI_REGIO</th>\n",
              "      <th>ONLINE_AFFINITAET</th>\n",
              "      <th>REGIOTYP</th>\n",
              "      <th>KBA13_ANZAHL_PKW</th>\n",
              "      <th>PLZ8_ANTG1</th>\n",
              "      <th>PLZ8_ANTG2</th>\n",
              "      <th>PLZ8_ANTG3</th>\n",
              "      <th>PLZ8_ANTG4</th>\n",
              "      <th>PLZ8_BAUMAX</th>\n",
              "      <th>PLZ8_HHZ</th>\n",
              "      <th>PLZ8_GBZ</th>\n",
              "      <th>ARBEIT</th>\n",
              "      <th>ORTSGR_KLS9</th>\n",
              "      <th>RELAT_AB</th>\n",
              "    </tr>\n",
              "  </thead>\n",
              "  <tbody>\n",
              "    <tr>\n",
              "      <th>0</th>\n",
              "      <td>-1</td>\n",
              "      <td>2</td>\n",
              "      <td>1</td>\n",
              "      <td>2.0</td>\n",
              "      <td>3</td>\n",
              "      <td>4</td>\n",
              "      <td>3</td>\n",
              "      <td>5</td>\n",
              "      <td>5</td>\n",
              "      <td>3</td>\n",
              "      <td>4</td>\n",
              "      <td>0</td>\n",
              "      <td>10.0</td>\n",
              "      <td>0</td>\n",
              "      <td>-1</td>\n",
              "      <td>15.0</td>\n",
              "      <td>4.0</td>\n",
              "      <td>2.0</td>\n",
              "      <td>2.0</td>\n",
              "      <td>1.0</td>\n",
              "      <td>1.0</td>\n",
              "      <td>0</td>\n",
              "      <td>0</td>\n",
              "      <td>5.0</td>\n",
              "      <td>2</td>\n",
              "      <td>6</td>\n",
              "      <td>7</td>\n",
              "      <td>5</td>\n",
              "      <td>1</td>\n",
              "      <td>5</td>\n",
              "      <td>3</td>\n",
              "      <td>3</td>\n",
              "      <td>4</td>\n",
              "      <td>7</td>\n",
              "      <td>6</td>\n",
              "      <td>6</td>\n",
              "      <td>5</td>\n",
              "      <td>3</td>\n",
              "      <td>-1</td>\n",
              "      <td>NaN</td>\n",
              "      <td>...</td>\n",
              "      <td>NaN</td>\n",
              "      <td>2.0</td>\n",
              "      <td>NaN</td>\n",
              "      <td>NaN</td>\n",
              "      <td>NaN</td>\n",
              "      <td>NaN</td>\n",
              "      <td>NaN</td>\n",
              "      <td>NaN</td>\n",
              "      <td>NaN</td>\n",
              "      <td>NaN</td>\n",
              "      <td>NaN</td>\n",
              "      <td>NaN</td>\n",
              "      <td>NaN</td>\n",
              "      <td>NaN</td>\n",
              "      <td>NaN</td>\n",
              "      <td>NaN</td>\n",
              "      <td>NaN</td>\n",
              "      <td>NaN</td>\n",
              "      <td>NaN</td>\n",
              "      <td>NaN</td>\n",
              "      <td>NaN</td>\n",
              "      <td>NaN</td>\n",
              "      <td>NaN</td>\n",
              "      <td>NaN</td>\n",
              "      <td>NaN</td>\n",
              "      <td>NaN</td>\n",
              "      <td>NaN</td>\n",
              "      <td>1.0</td>\n",
              "      <td>NaN</td>\n",
              "      <td>NaN</td>\n",
              "      <td>NaN</td>\n",
              "      <td>NaN</td>\n",
              "      <td>NaN</td>\n",
              "      <td>NaN</td>\n",
              "      <td>NaN</td>\n",
              "      <td>NaN</td>\n",
              "      <td>NaN</td>\n",
              "      <td>NaN</td>\n",
              "      <td>NaN</td>\n",
              "      <td>NaN</td>\n",
              "    </tr>\n",
              "    <tr>\n",
              "      <th>1</th>\n",
              "      <td>-1</td>\n",
              "      <td>1</td>\n",
              "      <td>2</td>\n",
              "      <td>5.0</td>\n",
              "      <td>1</td>\n",
              "      <td>5</td>\n",
              "      <td>2</td>\n",
              "      <td>5</td>\n",
              "      <td>4</td>\n",
              "      <td>5</td>\n",
              "      <td>1</td>\n",
              "      <td>1996</td>\n",
              "      <td>10.0</td>\n",
              "      <td>0</td>\n",
              "      <td>3</td>\n",
              "      <td>21.0</td>\n",
              "      <td>6.0</td>\n",
              "      <td>5.0</td>\n",
              "      <td>3.0</td>\n",
              "      <td>2.0</td>\n",
              "      <td>1.0</td>\n",
              "      <td>1</td>\n",
              "      <td>14</td>\n",
              "      <td>1.0</td>\n",
              "      <td>5</td>\n",
              "      <td>4</td>\n",
              "      <td>4</td>\n",
              "      <td>3</td>\n",
              "      <td>1</td>\n",
              "      <td>2</td>\n",
              "      <td>2</td>\n",
              "      <td>3</td>\n",
              "      <td>6</td>\n",
              "      <td>4</td>\n",
              "      <td>7</td>\n",
              "      <td>4</td>\n",
              "      <td>7</td>\n",
              "      <td>6</td>\n",
              "      <td>3</td>\n",
              "      <td>1.0</td>\n",
              "      <td>...</td>\n",
              "      <td>0.0</td>\n",
              "      <td>6.0</td>\n",
              "      <td>NaN</td>\n",
              "      <td>3.0</td>\n",
              "      <td>9.0</td>\n",
              "      <td>11.0</td>\n",
              "      <td>0.0</td>\n",
              "      <td>8.0</td>\n",
              "      <td>1.0</td>\n",
              "      <td>1992.0</td>\n",
              "      <td>W</td>\n",
              "      <td>4.0</td>\n",
              "      <td>8</td>\n",
              "      <td>8A</td>\n",
              "      <td>51</td>\n",
              "      <td>0.0</td>\n",
              "      <td>0.0</td>\n",
              "      <td>0.0</td>\n",
              "      <td>2.0</td>\n",
              "      <td>5.0</td>\n",
              "      <td>1.0</td>\n",
              "      <td>6.0</td>\n",
              "      <td>3.0</td>\n",
              "      <td>8.0</td>\n",
              "      <td>3.0</td>\n",
              "      <td>2.0</td>\n",
              "      <td>1.0</td>\n",
              "      <td>3.0</td>\n",
              "      <td>3.0</td>\n",
              "      <td>963.0</td>\n",
              "      <td>2.0</td>\n",
              "      <td>3.0</td>\n",
              "      <td>2.0</td>\n",
              "      <td>1.0</td>\n",
              "      <td>1.0</td>\n",
              "      <td>5.0</td>\n",
              "      <td>4.0</td>\n",
              "      <td>3.0</td>\n",
              "      <td>5.0</td>\n",
              "      <td>4.0</td>\n",
              "    </tr>\n",
              "    <tr>\n",
              "      <th>2</th>\n",
              "      <td>-1</td>\n",
              "      <td>3</td>\n",
              "      <td>2</td>\n",
              "      <td>3.0</td>\n",
              "      <td>1</td>\n",
              "      <td>4</td>\n",
              "      <td>1</td>\n",
              "      <td>2</td>\n",
              "      <td>3</td>\n",
              "      <td>5</td>\n",
              "      <td>1</td>\n",
              "      <td>1979</td>\n",
              "      <td>10.0</td>\n",
              "      <td>1</td>\n",
              "      <td>3</td>\n",
              "      <td>3.0</td>\n",
              "      <td>1.0</td>\n",
              "      <td>1.0</td>\n",
              "      <td>1.0</td>\n",
              "      <td>3.0</td>\n",
              "      <td>2.0</td>\n",
              "      <td>1</td>\n",
              "      <td>15</td>\n",
              "      <td>3.0</td>\n",
              "      <td>4</td>\n",
              "      <td>1</td>\n",
              "      <td>3</td>\n",
              "      <td>3</td>\n",
              "      <td>4</td>\n",
              "      <td>4</td>\n",
              "      <td>6</td>\n",
              "      <td>3</td>\n",
              "      <td>4</td>\n",
              "      <td>7</td>\n",
              "      <td>7</td>\n",
              "      <td>7</td>\n",
              "      <td>3</td>\n",
              "      <td>3</td>\n",
              "      <td>2</td>\n",
              "      <td>0.0</td>\n",
              "      <td>...</td>\n",
              "      <td>0.0</td>\n",
              "      <td>4.0</td>\n",
              "      <td>NaN</td>\n",
              "      <td>3.0</td>\n",
              "      <td>9.0</td>\n",
              "      <td>10.0</td>\n",
              "      <td>0.0</td>\n",
              "      <td>1.0</td>\n",
              "      <td>5.0</td>\n",
              "      <td>1992.0</td>\n",
              "      <td>W</td>\n",
              "      <td>2.0</td>\n",
              "      <td>4</td>\n",
              "      <td>4C</td>\n",
              "      <td>24</td>\n",
              "      <td>1.0</td>\n",
              "      <td>3.0</td>\n",
              "      <td>1.0</td>\n",
              "      <td>0.0</td>\n",
              "      <td>0.0</td>\n",
              "      <td>3.0</td>\n",
              "      <td>2.0</td>\n",
              "      <td>4.0</td>\n",
              "      <td>4.0</td>\n",
              "      <td>4.0</td>\n",
              "      <td>2.0</td>\n",
              "      <td>3.0</td>\n",
              "      <td>2.0</td>\n",
              "      <td>2.0</td>\n",
              "      <td>712.0</td>\n",
              "      <td>3.0</td>\n",
              "      <td>3.0</td>\n",
              "      <td>1.0</td>\n",
              "      <td>0.0</td>\n",
              "      <td>1.0</td>\n",
              "      <td>4.0</td>\n",
              "      <td>4.0</td>\n",
              "      <td>3.0</td>\n",
              "      <td>5.0</td>\n",
              "      <td>2.0</td>\n",
              "    </tr>\n",
              "  </tbody>\n",
              "</table>\n",
              "<p>3 rows × 85 columns</p>\n",
              "</div>"
            ],
            "text/plain": [
              "   AGER_TYP  ALTERSKATEGORIE_GROB  ANREDE_KZ  ...  ARBEIT  ORTSGR_KLS9  RELAT_AB\n",
              "0        -1                     2          1  ...     NaN          NaN       NaN\n",
              "1        -1                     1          2  ...     3.0          5.0       4.0\n",
              "2        -1                     3          2  ...     3.0          5.0       2.0\n",
              "\n",
              "[3 rows x 85 columns]"
            ]
          },
          "metadata": {}
        },
        {
          "output_type": "stream",
          "text": [
            "(891221, 85)\n"
          ],
          "name": "stdout"
        },
        {
          "output_type": "display_data",
          "data": {
            "text/html": [
              "<div>\n",
              "<style scoped>\n",
              "    .dataframe tbody tr th:only-of-type {\n",
              "        vertical-align: middle;\n",
              "    }\n",
              "\n",
              "    .dataframe tbody tr th {\n",
              "        vertical-align: top;\n",
              "    }\n",
              "\n",
              "    .dataframe thead th {\n",
              "        text-align: right;\n",
              "    }\n",
              "</style>\n",
              "<table border=\"1\" class=\"dataframe\">\n",
              "  <thead>\n",
              "    <tr style=\"text-align: right;\">\n",
              "      <th></th>\n",
              "      <th>attribute</th>\n",
              "      <th>information_level</th>\n",
              "      <th>type</th>\n",
              "      <th>missing_or_unknown</th>\n",
              "    </tr>\n",
              "  </thead>\n",
              "  <tbody>\n",
              "    <tr>\n",
              "      <th>0</th>\n",
              "      <td>AGER_TYP</td>\n",
              "      <td>person</td>\n",
              "      <td>categorical</td>\n",
              "      <td>[-1,0]</td>\n",
              "    </tr>\n",
              "    <tr>\n",
              "      <th>1</th>\n",
              "      <td>ALTERSKATEGORIE_GROB</td>\n",
              "      <td>person</td>\n",
              "      <td>ordinal</td>\n",
              "      <td>[-1,0,9]</td>\n",
              "    </tr>\n",
              "    <tr>\n",
              "      <th>2</th>\n",
              "      <td>ANREDE_KZ</td>\n",
              "      <td>person</td>\n",
              "      <td>categorical</td>\n",
              "      <td>[-1,0]</td>\n",
              "    </tr>\n",
              "  </tbody>\n",
              "</table>\n",
              "</div>"
            ],
            "text/plain": [
              "              attribute information_level         type missing_or_unknown\n",
              "0              AGER_TYP            person  categorical             [-1,0]\n",
              "1  ALTERSKATEGORIE_GROB            person      ordinal           [-1,0,9]\n",
              "2             ANREDE_KZ            person  categorical             [-1,0]"
            ]
          },
          "metadata": {}
        },
        {
          "output_type": "stream",
          "text": [
            "(85, 4)\n"
          ],
          "name": "stdout"
        }
      ]
    },
    {
      "cell_type": "code",
      "metadata": {
        "colab": {
          "base_uri": "https://localhost:8080/"
        },
        "id": "9MEBMdvSWnvv",
        "outputId": "bf269199-8bd5-44ed-f4ac-f4ad8f686fb2"
      },
      "source": [
        "x=feat_info['attribute']\n",
        "y=feat_info['missing_or_unknown']\n",
        "print(x)\n",
        "print(y)"
      ],
      "execution_count": 49,
      "outputs": [
        {
          "output_type": "stream",
          "text": [
            "0                 AGER_TYP\n",
            "1     ALTERSKATEGORIE_GROB\n",
            "2                ANREDE_KZ\n",
            "3            CJT_GESAMTTYP\n",
            "4        FINANZ_MINIMALIST\n",
            "              ...         \n",
            "80                PLZ8_HHZ\n",
            "81                PLZ8_GBZ\n",
            "82                  ARBEIT\n",
            "83             ORTSGR_KLS9\n",
            "84                RELAT_AB\n",
            "Name: attribute, Length: 85, dtype: object\n",
            "<bound method Series.all of 0       [-1,0]\n",
            "1     [-1,0,9]\n",
            "2       [-1,0]\n",
            "3          [0]\n",
            "4         [-1]\n",
            "        ...   \n",
            "80        [-1]\n",
            "81        [-1]\n",
            "82      [-1,9]\n",
            "83      [-1,0]\n",
            "84      [-1,9]\n",
            "Name: missing_or_unknown, Length: 85, dtype: object>\n"
          ],
          "name": "stdout"
        }
      ]
    },
    {
      "cell_type": "markdown",
      "metadata": {
        "id": "Fb9lyvckkIG5"
      },
      "source": [
        "> **Tip**: Add additional cells to keep everything in reasonably-sized chunks! Keyboard shortcut `esc --> a` (press escape to enter command mode, then press the 'A' key) adds a new cell before the active cell, and `esc --> b` adds a new cell after the active cell. If you need to convert an active cell to a markdown cell, use `esc --> m` and to convert to a code cell, use `esc --> y`. \n",
        "\n",
        "## Step 1: Preprocessing\n",
        "\n",
        "### Step 1.1: Assess Missing Data\n",
        "\n",
        "The feature summary file contains a summary of properties for each demographics data column. You will use this file to help you make cleaning decisions during this stage of the project. First of all, you should assess the demographics data in terms of missing data. Pay attention to the following points as you perform your analysis, and take notes on what you observe. Make sure that you fill in the **Discussion** cell with your findings and decisions at the end of each step that has one!\n",
        "\n",
        "#### Step 1.1.1: Convert Missing Value Codes to NaNs\n",
        "The fourth column of the feature attributes summary (loaded in above as `feat_info`) documents the codes from the data dictionary that indicate missing or unknown data. While the file encodes this as a list (e.g. `[-1,0]`), this will get read in as a string object. You'll need to do a little bit of parsing to make use of it to identify and clean the data. Convert data that matches a 'missing' or 'unknown' value code into a numpy NaN value. You might want to see how much data takes on a 'missing' or 'unknown' code, and how much data is naturally missing, as a point of interest.\n",
        "\n",
        "**As one more reminder, you are encouraged to add additional cells to break up your analysis into manageable chunks.**"
      ]
    },
    {
      "cell_type": "code",
      "metadata": {
        "colab": {
          "base_uri": "https://localhost:8080/"
        },
        "id": "2VCv1PZWkIG6",
        "outputId": "cb42253e-b83f-4b49-c1d2-54c294f72d23"
      },
      "source": [
        "# Identify missing or unknown data values and convert them to NaNs.\n",
        "a_dict = {}\n",
        "c=0\n",
        "for i in y:\n",
        "  new=i.strip('[').strip(']')\n",
        "  new=new.split(\",\")\n",
        "  a_dict.setdefault(x.get(c), [])\n",
        "  for j in new:\n",
        "    if x.get(c) in a_dict:\n",
        "      a_dict[x.get(c)].append(pd.to_numeric(j,errors='coerce'))\n",
        "    else:\n",
        "      a_dict[x.get(c)] =pd.to_numeric(j,errors='coerce')\n",
        "  c=c+1\n",
        "\n",
        "\n",
        "\n",
        "print(a_dict)\n",
        "\n",
        "  \n",
        "  \n",
        "  \n",
        "\n"
      ],
      "execution_count": 40,
      "outputs": [
        {
          "output_type": "stream",
          "text": [
            "{'AGER_TYP': [-1, 0], 'ALTERSKATEGORIE_GROB': [-1, 0, 9], 'ANREDE_KZ': [-1, 0], 'CJT_GESAMTTYP': [0], 'FINANZ_MINIMALIST': [-1], 'FINANZ_SPARER': [-1], 'FINANZ_VORSORGER': [-1], 'FINANZ_ANLEGER': [-1], 'FINANZ_UNAUFFAELLIGER': [-1], 'FINANZ_HAUSBAUER': [-1], 'FINANZTYP': [-1], 'GEBURTSJAHR': [0], 'GFK_URLAUBERTYP': [nan], 'GREEN_AVANTGARDE': [nan], 'HEALTH_TYP': [-1, 0], 'LP_LEBENSPHASE_FEIN': [0], 'LP_LEBENSPHASE_GROB': [0], 'LP_FAMILIE_FEIN': [0], 'LP_FAMILIE_GROB': [0], 'LP_STATUS_FEIN': [0], 'LP_STATUS_GROB': [0], 'NATIONALITAET_KZ': [-1, 0], 'PRAEGENDE_JUGENDJAHRE': [-1, 0], 'RETOURTYP_BK_S': [0], 'SEMIO_SOZ': [-1, 9], 'SEMIO_FAM': [-1, 9], 'SEMIO_REL': [-1, 9], 'SEMIO_MAT': [-1, 9], 'SEMIO_VERT': [-1, 9], 'SEMIO_LUST': [-1, 9], 'SEMIO_ERL': [-1, 9], 'SEMIO_KULT': [-1, 9], 'SEMIO_RAT': [-1, 9], 'SEMIO_KRIT': [-1, 9], 'SEMIO_DOM': [-1, 9], 'SEMIO_KAEM': [-1, 9], 'SEMIO_PFLICHT': [-1, 9], 'SEMIO_TRADV': [-1, 9], 'SHOPPER_TYP': [-1], 'SOHO_KZ': [-1], 'TITEL_KZ': [-1, 0], 'VERS_TYP': [-1], 'ZABEOTYP': [-1, 9], 'ALTER_HH': [0], 'ANZ_PERSONEN': [nan], 'ANZ_TITEL': [nan], 'HH_EINKOMMEN_SCORE': [-1, 0], 'KK_KUNDENTYP': [-1], 'W_KEIT_KIND_HH': [-1, 0], 'WOHNDAUER_2008': [-1, 0], 'ANZ_HAUSHALTE_AKTIV': [0], 'ANZ_HH_TITEL': [nan], 'GEBAEUDETYP': [-1, 0], 'KONSUMNAEHE': [nan], 'MIN_GEBAEUDEJAHR': [0], 'OST_WEST_KZ': [-1], 'WOHNLAGE': [-1], 'CAMEO_DEUG_2015': [-1, nan], 'CAMEO_DEU_2015': [nan], 'CAMEO_INTL_2015': [-1, nan], 'KBA05_ANTG1': [-1], 'KBA05_ANTG2': [-1], 'KBA05_ANTG3': [-1], 'KBA05_ANTG4': [-1], 'KBA05_BAUMAX': [-1, 0], 'KBA05_GBZ': [-1, 0], 'BALLRAUM': [-1], 'EWDICHTE': [-1], 'INNENSTADT': [-1], 'GEBAEUDETYP_RASTER': [nan], 'KKK': [-1, 0], 'MOBI_REGIO': [nan], 'ONLINE_AFFINITAET': [nan], 'REGIOTYP': [-1, 0], 'KBA13_ANZAHL_PKW': [nan], 'PLZ8_ANTG1': [-1], 'PLZ8_ANTG2': [-1], 'PLZ8_ANTG3': [-1], 'PLZ8_ANTG4': [-1], 'PLZ8_BAUMAX': [-1, 0], 'PLZ8_HHZ': [-1], 'PLZ8_GBZ': [-1], 'ARBEIT': [-1, 9], 'ORTSGR_KLS9': [-1, 0], 'RELAT_AB': [-1, 9]}\n"
          ],
          "name": "stdout"
        }
      ]
    },
    {
      "cell_type": "code",
      "metadata": {
        "colab": {
          "base_uri": "https://localhost:8080/"
        },
        "id": "l04g5y56JM2f",
        "outputId": "c1207fd1-3c48-451c-adf3-2d849abb55e6"
      },
      "source": [
        "#import numpy as np\n",
        "#print(str(np.nan))\n",
        "for k in a_dict:\n",
        "  for m in a_dict.get(k):\n",
        "    print(type(azdias[k][0]))\n",
        "#azdias = azdias.astype(str)\n",
        "#for k in a_dict:\n",
        " # for m in a_dict.get(k):\n",
        "  #  print(type(azdias[k][0]))"
      ],
      "execution_count": 41,
      "outputs": [
        {
          "output_type": "stream",
          "text": [
            "<class 'numpy.int64'>\n",
            "<class 'numpy.int64'>\n",
            "<class 'numpy.int64'>\n",
            "<class 'numpy.int64'>\n",
            "<class 'numpy.int64'>\n",
            "<class 'numpy.int64'>\n",
            "<class 'numpy.int64'>\n",
            "<class 'numpy.float64'>\n",
            "<class 'numpy.int64'>\n",
            "<class 'numpy.int64'>\n",
            "<class 'numpy.int64'>\n",
            "<class 'numpy.int64'>\n",
            "<class 'numpy.int64'>\n",
            "<class 'numpy.int64'>\n",
            "<class 'numpy.int64'>\n",
            "<class 'numpy.int64'>\n",
            "<class 'numpy.float64'>\n",
            "<class 'numpy.int64'>\n",
            "<class 'numpy.int64'>\n",
            "<class 'numpy.int64'>\n",
            "<class 'numpy.float64'>\n",
            "<class 'numpy.float64'>\n",
            "<class 'numpy.float64'>\n",
            "<class 'numpy.float64'>\n",
            "<class 'numpy.float64'>\n",
            "<class 'numpy.float64'>\n",
            "<class 'numpy.int64'>\n",
            "<class 'numpy.int64'>\n",
            "<class 'numpy.int64'>\n",
            "<class 'numpy.int64'>\n",
            "<class 'numpy.float64'>\n",
            "<class 'numpy.int64'>\n",
            "<class 'numpy.int64'>\n",
            "<class 'numpy.int64'>\n",
            "<class 'numpy.int64'>\n",
            "<class 'numpy.int64'>\n",
            "<class 'numpy.int64'>\n",
            "<class 'numpy.int64'>\n",
            "<class 'numpy.int64'>\n",
            "<class 'numpy.int64'>\n",
            "<class 'numpy.int64'>\n",
            "<class 'numpy.int64'>\n",
            "<class 'numpy.int64'>\n",
            "<class 'numpy.int64'>\n",
            "<class 'numpy.int64'>\n",
            "<class 'numpy.int64'>\n",
            "<class 'numpy.int64'>\n",
            "<class 'numpy.int64'>\n",
            "<class 'numpy.int64'>\n",
            "<class 'numpy.int64'>\n",
            "<class 'numpy.int64'>\n",
            "<class 'numpy.int64'>\n",
            "<class 'numpy.int64'>\n",
            "<class 'numpy.int64'>\n",
            "<class 'numpy.int64'>\n",
            "<class 'numpy.int64'>\n",
            "<class 'numpy.int64'>\n",
            "<class 'numpy.int64'>\n",
            "<class 'numpy.int64'>\n",
            "<class 'numpy.int64'>\n",
            "<class 'numpy.float64'>\n",
            "<class 'numpy.float64'>\n",
            "<class 'numpy.float64'>\n",
            "<class 'numpy.int64'>\n",
            "<class 'numpy.int64'>\n",
            "<class 'numpy.int64'>\n",
            "<class 'numpy.float64'>\n",
            "<class 'numpy.float64'>\n",
            "<class 'numpy.float64'>\n",
            "<class 'numpy.float64'>\n",
            "<class 'numpy.float64'>\n",
            "<class 'numpy.float64'>\n",
            "<class 'numpy.float64'>\n",
            "<class 'numpy.float64'>\n",
            "<class 'numpy.float64'>\n",
            "<class 'numpy.float64'>\n",
            "<class 'numpy.float64'>\n",
            "<class 'numpy.float64'>\n",
            "<class 'numpy.float64'>\n",
            "<class 'numpy.float64'>\n",
            "<class 'numpy.float64'>\n",
            "<class 'numpy.float64'>\n",
            "<class 'float'>\n",
            "<class 'numpy.float64'>\n",
            "<class 'float'>\n",
            "<class 'float'>\n",
            "<class 'float'>\n",
            "<class 'float'>\n",
            "<class 'float'>\n",
            "<class 'numpy.float64'>\n",
            "<class 'numpy.float64'>\n",
            "<class 'numpy.float64'>\n",
            "<class 'numpy.float64'>\n",
            "<class 'numpy.float64'>\n",
            "<class 'numpy.float64'>\n",
            "<class 'numpy.float64'>\n",
            "<class 'numpy.float64'>\n",
            "<class 'numpy.float64'>\n",
            "<class 'numpy.float64'>\n",
            "<class 'numpy.float64'>\n",
            "<class 'numpy.float64'>\n",
            "<class 'numpy.float64'>\n",
            "<class 'numpy.float64'>\n",
            "<class 'numpy.float64'>\n",
            "<class 'numpy.float64'>\n",
            "<class 'numpy.float64'>\n",
            "<class 'numpy.float64'>\n",
            "<class 'numpy.float64'>\n",
            "<class 'numpy.float64'>\n",
            "<class 'numpy.float64'>\n",
            "<class 'numpy.float64'>\n",
            "<class 'numpy.float64'>\n",
            "<class 'numpy.float64'>\n",
            "<class 'numpy.float64'>\n",
            "<class 'numpy.float64'>\n",
            "<class 'numpy.float64'>\n",
            "<class 'numpy.float64'>\n",
            "<class 'numpy.float64'>\n",
            "<class 'numpy.float64'>\n",
            "<class 'numpy.float64'>\n",
            "<class 'numpy.float64'>\n",
            "<class 'numpy.float64'>\n"
          ],
          "name": "stdout"
        }
      ]
    },
    {
      "cell_type": "code",
      "metadata": {
        "colab": {
          "base_uri": "https://localhost:8080/"
        },
        "id": "s5wzByg2QhW_",
        "outputId": "cd719025-7bd5-4c73-dae7-b11afe9209ba"
      },
      "source": [
        "print(azdias)"
      ],
      "execution_count": 46,
      "outputs": [
        {
          "output_type": "stream",
          "text": [
            "        AGER_TYP  ALTERSKATEGORIE_GROB  ...  ORTSGR_KLS9  RELAT_AB\n",
            "0            NaN                     2  ...          NaN       NaN\n",
            "1            NaN                     1  ...          5.0       4.0\n",
            "2            NaN                     3  ...          5.0       2.0\n",
            "3            2.0                     4  ...          3.0       3.0\n",
            "4            NaN                     3  ...          6.0       5.0\n",
            "...          ...                   ...  ...          ...       ...\n",
            "891216       NaN                     3  ...          NaN       NaN\n",
            "891217       NaN                     2  ...          6.0       5.0\n",
            "891218       NaN                     2  ...          2.0       3.0\n",
            "891219       NaN                     1  ...          7.0       5.0\n",
            "891220       NaN                     4  ...          4.0       5.0\n",
            "\n",
            "[891221 rows x 85 columns]\n"
          ],
          "name": "stdout"
        }
      ]
    },
    {
      "cell_type": "code",
      "metadata": {
        "colab": {
          "base_uri": "https://localhost:8080/"
        },
        "id": "umfOjfwuwwr3",
        "outputId": "74aaf48e-ad40-4669-96a4-7427d660159e"
      },
      "source": [
        "#azdias = azdias.astype(str)\n",
        "for k in a_dict:\n",
        "  for m in a_dict.get(k):\n",
        "    azdias[k].replace({m: np.nan},inplace = True)\n",
        "    azdias[k].replace({pd.to_numeric('X',errors='coerce'): np.nan, pd.to_numeric('XX',errors='coerce'): np.nan},inplace = True)\n",
        "    #azdias[k].replace({\"X\": \"nan\"},inplace = True)\n",
        "    #azdias[k].replace({\"XX\": \"nan\"},inplace = True)\n",
        "    #azdias[k]=azdias[k].replace({str(m):str(np.nan)})   \n",
        "print(azdias)"
      ],
      "execution_count": 50,
      "outputs": [
        {
          "output_type": "stream",
          "text": [
            "        AGER_TYP  ALTERSKATEGORIE_GROB  ...  ORTSGR_KLS9  RELAT_AB\n",
            "0            NaN                   2.0  ...          NaN       NaN\n",
            "1            NaN                   1.0  ...          5.0       4.0\n",
            "2            NaN                   3.0  ...          5.0       2.0\n",
            "3            2.0                   4.0  ...          3.0       3.0\n",
            "4            NaN                   3.0  ...          6.0       5.0\n",
            "...          ...                   ...  ...          ...       ...\n",
            "891216       NaN                   3.0  ...          NaN       NaN\n",
            "891217       NaN                   2.0  ...          6.0       5.0\n",
            "891218       NaN                   2.0  ...          2.0       3.0\n",
            "891219       NaN                   1.0  ...          7.0       5.0\n",
            "891220       NaN                   4.0  ...          4.0       5.0\n",
            "\n",
            "[891221 rows x 85 columns]\n"
          ],
          "name": "stdout"
        }
      ]
    },
    {
      "cell_type": "markdown",
      "metadata": {
        "id": "qZcoQCCCkIG6"
      },
      "source": [
        "#### Step 1.1.2: Assess Missing Data in Each Column\n",
        "\n",
        "How much missing data is present in each column? There are a few columns that are outliers in terms of the proportion of values that are missing. You will want to use matplotlib's [`hist()`](https://matplotlib.org/api/_as_gen/matplotlib.pyplot.hist.html) function to visualize the distribution of missing value counts to find these columns. Identify and document these columns. While some of these columns might have justifications for keeping or re-encoding the data, for this project you should just remove them from the dataframe. (Feel free to make remarks about these outlier columns in the discussion, however!)\n",
        "\n",
        "For the remaining features, are there any patterns in which columns have, or share, missing data?"
      ]
    },
    {
      "cell_type": "code",
      "metadata": {
        "colab": {
          "base_uri": "https://localhost:8080/",
          "height": 334
        },
        "id": "L3qC3GaWQEC3",
        "outputId": "990bc7b7-e174-48d9-a048-99d613b5bab9"
      },
      "source": [
        "# Perform an assessment of how much missing data there is in each column of the\n",
        "# dataset.\n",
        "plt.hist(azdias.isna().sum())\n",
        "#azdias = azdias.astype(float)\n",
        "#azdias['AGER_TYP'].isna().sum()\n",
        "#x=[]\n",
        "#y=[]\n",
        "#for k in a_dict:\n",
        "#  if np.nan in azdias[k].values and azdias[k].isna().sum()>=200000:\n",
        "#    y.append(azdias[k].isna().sum())\n",
        "#    x.append(k)\n",
        "#    print(k,azdias[k].isna().sum())\n",
        "\n",
        "\n",
        "#plt.hist(x, bins=10, range=y, color = 'green',histtype = 'bar', rwidth = 0.8)\n",
        "#plt.plot(x, y)\n",
        "#plt.show()\n",
        "\n"
      ],
      "execution_count": 51,
      "outputs": [
        {
          "output_type": "execute_result",
          "data": {
            "text/plain": [
              "(array([39., 40.,  0.,  1.,  1.,  1.,  1.,  1.,  0.,  1.]),\n",
              " array([     0. ,  88906.1, 177812.2, 266718.3, 355624.4, 444530.5,\n",
              "        533436.6, 622342.7, 711248.8, 800154.9, 889061. ]),\n",
              " <a list of 10 Patch objects>)"
            ]
          },
          "metadata": {},
          "execution_count": 51
        },
        {
          "output_type": "display_data",
          "data": {
            "image/png": "[encoded data removed]",
            "text/plain": [
              "<Figure size 432x288 with 1 Axes>"
            ]
          },
          "metadata": {
            "needs_background": "light"
          }
        }
      ]
    },
    {
      "cell_type": "code",
      "metadata": {
        "id": "hWZijRnWkIG6",
        "colab": {
          "base_uri": "https://localhost:8080/"
        },
        "outputId": "5aad3132-2663-4fab-bf61-819983841a15"
      },
      "source": [
        "# Investigate patterns in the amount of missing data in each column.\n",
        "num_name_of_na_per_col = dict()\n",
        "the_rest = dict()\n",
        "for column in azdias:\n",
        "    sum_per_col = azdias[column].isna().sum()\n",
        "    if sum_per_col > 200000:\n",
        "        num_name_of_na_per_col[column] = sum_per_col\n",
        "    else:\n",
        "        the_rest[column] = sum_per_col\n",
        "num_name_of_na_per_col\n",
        "\n",
        "#for i in x:\n",
        "#  azdias = azdias.drop(i, axis=1)\n",
        "\n",
        "\n",
        "#print(azdias.shape)\n"
      ],
      "execution_count": 52,
      "outputs": [
        {
          "output_type": "execute_result",
          "data": {
            "text/plain": [
              "{'AGER_TYP': 685843,\n",
              " 'ALTER_HH': 310267,\n",
              " 'GEBURTSJAHR': 392318,\n",
              " 'KBA05_BAUMAX': 476524,\n",
              " 'KK_KUNDENTYP': 584612,\n",
              " 'TITEL_KZ': 889061}"
            ]
          },
          "metadata": {},
          "execution_count": 52
        }
      ]
    },
    {
      "cell_type": "code",
      "metadata": {
        "colab": {
          "base_uri": "https://localhost:8080/"
        },
        "id": "23EmK9Po8Nja",
        "outputId": "a9e8641e-9bdf-4464-b76f-7ea1a2090990"
      },
      "source": [
        "\n",
        "outliers = num_name_of_na_per_col.keys()  \n",
        "print(outliers)"
      ],
      "execution_count": 53,
      "outputs": [
        {
          "output_type": "stream",
          "text": [
            "dict_keys(['AGER_TYP', 'GEBURTSJAHR', 'TITEL_KZ', 'ALTER_HH', 'KK_KUNDENTYP', 'KBA05_BAUMAX'])\n"
          ],
          "name": "stdout"
        }
      ]
    },
    {
      "cell_type": "code",
      "metadata": {
        "colab": {
          "base_uri": "https://localhost:8080/"
        },
        "id": "hL2Xbs-38N9z",
        "outputId": "f41416c4-64c0-4633-bdf7-7e4f4a95dca4"
      },
      "source": [
        "# Remove the outlier columns from the dataset. (You'll perform other data\n",
        "# engineering tasks such as re-encoding and imputation later.)\n",
        "condensed_azdias = azdias.drop(outliers, axis = 1)\n",
        "condensed_azdias.shape"
      ],
      "execution_count": 54,
      "outputs": [
        {
          "output_type": "execute_result",
          "data": {
            "text/plain": [
              "(891221, 79)"
            ]
          },
          "metadata": {},
          "execution_count": 54
        }
      ]
    },
    {
      "cell_type": "code",
      "metadata": {
        "colab": {
          "base_uri": "https://localhost:8080/",
          "height": 334
        },
        "id": "qPCIpQIt8-tw",
        "outputId": "1d6142ca-279d-44f6-9f7b-d1b4c98c1f26"
      },
      "source": [
        "\n",
        "plt.hist(condensed_azdias.isna().sum())"
      ],
      "execution_count": 55,
      "outputs": [
        {
          "output_type": "execute_result",
          "data": {
            "text/plain": [
              "(array([31.,  1.,  0.,  0.,  7.,  9., 12., 10.,  6.,  3.]),\n",
              " array([     0. ,  15806.4,  31612.8,  47419.2,  63225.6,  79032. ,\n",
              "         94838.4, 110644.8, 126451.2, 142257.6, 158064. ]),\n",
              " <a list of 10 Patch objects>)"
            ]
          },
          "metadata": {},
          "execution_count": 55
        },
        {
          "output_type": "display_data",
          "data": {
            "image/png": "[encoded data removed]",
            "text/plain": [
              "<Figure size 432x288 with 1 Axes>"
            ]
          },
          "metadata": {
            "needs_background": "light"
          }
        }
      ]
    },
    {
      "cell_type": "markdown",
      "metadata": {
        "id": "NLdbYH8kkIG6"
      },
      "source": [
        "#### Discussion 1.1.2: Assess Missing Data in Each Column\n",
        "\n",
        "\n",
        "yes, the patterns appear in AGER_TYP and KK_KUNDENTYP but GEBURTSJAHR with the lowest nan values between them, i made a threshold with 200000 that if the nans count > 200000 this column will be dropped from the data, following are the highest 6 columns with the missing values > 200000 count;\n",
        "\n",
        "\n",
        "{'AGER_TYP': 685843,\n",
        " 'ALTER_HH': 310267,\n",
        " 'GEBURTSJAHR': 392318,\n",
        " 'KBA05_BAUMAX': 476524,\n",
        " 'KK_KUNDENTYP': 584612,\n",
        " 'TITEL_KZ': 889061}"
      ]
    },
    {
      "cell_type": "markdown",
      "metadata": {
        "id": "Le4PRrMMkIG7"
      },
      "source": [
        "#### Step 1.1.3: Assess Missing Data in Each Row\n",
        "\n",
        "Now, you'll perform a similar assessment for the rows of the dataset. How much data is missing in each row? As with the columns, you should see some groups of points that have a very different numbers of missing values. Divide the data into two subsets: one for data points that are above some threshold for missing values, and a second subset for points below that threshold.\n",
        "\n",
        "In order to know what to do with the outlier rows, we should see if the distribution of data values on columns that are not missing data (or are missing very little data) are similar or different between the two groups. Select at least five of these columns and compare the distribution of values.\n",
        "- You can use seaborn's [`countplot()`](https://seaborn.pydata.org/generated/seaborn.countplot.html) function to create a bar chart of code frequencies and matplotlib's [`subplot()`](https://matplotlib.org/api/_as_gen/matplotlib.pyplot.subplot.html) function to put bar charts for the two subplots side by side.\n",
        "- To reduce repeated code, you might want to write a function that can perform this comparison, taking as one of its arguments a column to be compared.\n",
        "\n",
        "Depending on what you observe in your comparison, this will have implications on how you approach your conclusions later in the analysis. If the distributions of non-missing features look similar between the data with many missing values and the data with few or no missing values, then we could argue that simply dropping those points from the analysis won't present a major issue. On the other hand, if the data with many missing values looks very different from the data with few or no missing values, then we should make a note on those data as special. We'll revisit these data later on. **Either way, you should continue your analysis for now using just the subset of the data with few or no missing values.**"
      ]
    },
    {
      "cell_type": "code",
      "metadata": {
        "colab": {
          "base_uri": "https://localhost:8080/",
          "height": 334
        },
        "id": "cgRv9dTvOVlh",
        "outputId": "96be5a51-9c10-4802-dc58-690d387d52ff"
      },
      "source": [
        "#na_per_rows = azdias.value_counts().nan\n",
        "# How much data is missing in each row of the dataset?\n",
        "na_per_rows = condensed_azdias.isnull().sum(axis = 1)\n",
        "plt.hist(na_per_rows)\n",
        "#azdias.value_counts().nan <= 10\n",
        "#azdias.value_counts().nan > 10\n",
        "#azdias_less_than_10 = azdias[azdias.isnull().sum(axis=1) <= 10]\n",
        "#azdias_more_than_10=azdias[azdias.isnull().sum(axis=1) > 10]\n",
        "#print(len(azdias))\n",
        "#print(azdias.value_counts().nan <= 10)\n",
        "#print(azdias.value_counts().nan > 10)\n",
        "#print(azdias.apply(pd.Series.value_counts, axis=1).nan)\n",
        "#azdias_less_than_10 = azdias[azdias.value_counts().nan <= 10]\n",
        "#azdias_less_than_10=[]\n",
        "#azdias_more_than_10=[]\n",
        "#for i in range (len(azdias)):\n",
        "#  if (azdias.get(i).value_counts().nan <= 10):\n",
        "#    azdias_less_than_10.append(azdias.get(i))\n",
        "#  else:\n",
        "#    azdias_more_than_10.append(azdias.get(i))\n",
        "\n",
        "#print(len(azdias_less_than_10))\n",
        "#print(len(azdias_more_than_10))\n",
        "#azdias_less_than_10 = azdias[azdias.value_counts().nan  <= 10]\n",
        "\n",
        "#azdias_more_than_10 = azdias[azdias.value_counts().nan  > 10]\n",
        "\n"
      ],
      "execution_count": 56,
      "outputs": [
        {
          "output_type": "execute_result",
          "data": {
            "text/plain": [
              "(array([6.97135e+05, 7.76560e+04, 1.27610e+04, 9.52600e+03, 8.29000e+02,\n",
              "        1.54000e+02, 1.40170e+04, 5.03000e+03, 2.80380e+04, 4.60750e+04]),\n",
              " array([ 0. ,  4.9,  9.8, 14.7, 19.6, 24.5, 29.4, 34.3, 39.2, 44.1, 49. ]),\n",
              " <a list of 10 Patch objects>)"
            ]
          },
          "metadata": {},
          "execution_count": 56
        },
        {
          "output_type": "display_data",
          "data": {
            "image/png": "[encoded data removed]",
            "text/plain": [
              "<Figure size 432x288 with 1 Axes>"
            ]
          },
          "metadata": {
            "needs_background": "light"
          }
        }
      ]
    },
    {
      "cell_type": "code",
      "metadata": {
        "colab": {
          "base_uri": "https://localhost:8080/"
        },
        "id": "-7YMU1Zi9owP",
        "outputId": "b9c0891a-b8fc-4c05-98c4-0834df34068f"
      },
      "source": [
        "assert na_per_rows[0] == condensed_azdias.iloc[0].isna().sum()\n",
        "print(na_per_rows[0])\n",
        "print(condensed_azdias.iloc[0].isna().sum())"
      ],
      "execution_count": 57,
      "outputs": [
        {
          "output_type": "stream",
          "text": [
            "43\n",
            "43\n"
          ],
          "name": "stdout"
        }
      ]
    },
    {
      "cell_type": "code",
      "metadata": {
        "id": "tf9jFw2VkIG7"
      },
      "source": [
        "# Write code to divide the data into two subsets based on the number of missing\n",
        "# values in each row.\n",
        "azdias_less_than_10 = condensed_azdias[condensed_azdias.isnull().sum(axis = 1) <= 10]\n",
        "azdias_more_than_10 = condensed_azdias[condensed_azdias.isnull().sum(axis = 1) > 10]\n"
      ],
      "execution_count": 58,
      "outputs": []
    },
    {
      "cell_type": "code",
      "metadata": {
        "colab": {
          "base_uri": "https://localhost:8080/"
        },
        "id": "RsYu0bLvBIGn",
        "outputId": "ee87ca06-0e2a-46d4-9ac0-65c833fa7c68"
      },
      "source": [
        "print(condensed_azdias.columns)"
      ],
      "execution_count": 59,
      "outputs": [
        {
          "output_type": "stream",
          "text": [
            "Index(['ALTERSKATEGORIE_GROB', 'ANREDE_KZ', 'CJT_GESAMTTYP',\n",
            "       'FINANZ_MINIMALIST', 'FINANZ_SPARER', 'FINANZ_VORSORGER',\n",
            "       'FINANZ_ANLEGER', 'FINANZ_UNAUFFAELLIGER', 'FINANZ_HAUSBAUER',\n",
            "       'FINANZTYP', 'GFK_URLAUBERTYP', 'GREEN_AVANTGARDE', 'HEALTH_TYP',\n",
            "       'LP_LEBENSPHASE_FEIN', 'LP_LEBENSPHASE_GROB', 'LP_FAMILIE_FEIN',\n",
            "       'LP_FAMILIE_GROB', 'LP_STATUS_FEIN', 'LP_STATUS_GROB',\n",
            "       'NATIONALITAET_KZ', 'PRAEGENDE_JUGENDJAHRE', 'RETOURTYP_BK_S',\n",
            "       'SEMIO_SOZ', 'SEMIO_FAM', 'SEMIO_REL', 'SEMIO_MAT', 'SEMIO_VERT',\n",
            "       'SEMIO_LUST', 'SEMIO_ERL', 'SEMIO_KULT', 'SEMIO_RAT', 'SEMIO_KRIT',\n",
            "       'SEMIO_DOM', 'SEMIO_KAEM', 'SEMIO_PFLICHT', 'SEMIO_TRADV',\n",
            "       'SHOPPER_TYP', 'SOHO_KZ', 'VERS_TYP', 'ZABEOTYP', 'ANZ_PERSONEN',\n",
            "       'ANZ_TITEL', 'HH_EINKOMMEN_SCORE', 'W_KEIT_KIND_HH', 'WOHNDAUER_2008',\n",
            "       'ANZ_HAUSHALTE_AKTIV', 'ANZ_HH_TITEL', 'GEBAEUDETYP', 'KONSUMNAEHE',\n",
            "       'MIN_GEBAEUDEJAHR', 'OST_WEST_KZ', 'WOHNLAGE', 'CAMEO_DEUG_2015',\n",
            "       'CAMEO_DEU_2015', 'CAMEO_INTL_2015', 'KBA05_ANTG1', 'KBA05_ANTG2',\n",
            "       'KBA05_ANTG3', 'KBA05_ANTG4', 'KBA05_GBZ', 'BALLRAUM', 'EWDICHTE',\n",
            "       'INNENSTADT', 'GEBAEUDETYP_RASTER', 'KKK', 'MOBI_REGIO',\n",
            "       'ONLINE_AFFINITAET', 'REGIOTYP', 'KBA13_ANZAHL_PKW', 'PLZ8_ANTG1',\n",
            "       'PLZ8_ANTG2', 'PLZ8_ANTG3', 'PLZ8_ANTG4', 'PLZ8_BAUMAX', 'PLZ8_HHZ',\n",
            "       'PLZ8_GBZ', 'ARBEIT', 'ORTSGR_KLS9', 'RELAT_AB'],\n",
            "      dtype='object')\n"
          ],
          "name": "stdout"
        }
      ]
    },
    {
      "cell_type": "code",
      "metadata": {
        "id": "4osj08CckIG7",
        "colab": {
          "base_uri": "https://localhost:8080/",
          "height": 1000
        },
        "outputId": "7982d49a-4d66-4e25-caba-6956f34e4869"
      },
      "source": [
        "# Compare the distribution of values for at least five columns where there are\n",
        "# no or few missing values, between the two subsets.\n",
        "\n",
        "compare_columns = [\"REGIOTYP\", \"FINANZ_MINIMALIST\", \"PLZ8_ANTG2\", \"SEMIO_ERL\", \"CJT_GESAMTTYP\"]\n",
        "figure, axs = plt.subplots(nrows=len(compare_columns), ncols=2, figsize = (15,20))\n",
        "figure.subplots_adjust(hspace = 1, wspace=.3)\n",
        "for row in range(len(compare_columns)):\n",
        "    sns.countplot(azdias_less_than_10[compare_columns[row]], ax=axs[row][0])\n",
        "    axs[row][0].set_title('less_than_10')\n",
        "    sns.countplot(azdias_more_than_10[compare_columns[row]], ax=axs[row][1])\n",
        "    axs[row][1].set_title('more_than_10')"
      ],
      "execution_count": 60,
      "outputs": [
        {
          "output_type": "stream",
          "text": [
            "/usr/local/lib/python3.7/dist-packages/seaborn/_decorators.py:43: FutureWarning: Pass the following variable as a keyword arg: x. From version 0.12, the only valid positional argument will be `data`, and passing other arguments without an explicit keyword will result in an error or misinterpretation.\n",
            "  FutureWarning\n",
            "/usr/local/lib/python3.7/dist-packages/seaborn/_decorators.py:43: FutureWarning: Pass the following variable as a keyword arg: x. From version 0.12, the only valid positional argument will be `data`, and passing other arguments without an explicit keyword will result in an error or misinterpretation.\n",
            "  FutureWarning\n",
            "/usr/local/lib/python3.7/dist-packages/seaborn/_decorators.py:43: FutureWarning: Pass the following variable as a keyword arg: x. From version 0.12, the only valid positional argument will be `data`, and passing other arguments without an explicit keyword will result in an error or misinterpretation.\n",
            "  FutureWarning\n",
            "/usr/local/lib/python3.7/dist-packages/seaborn/_decorators.py:43: FutureWarning: Pass the following variable as a keyword arg: x. From version 0.12, the only valid positional argument will be `data`, and passing other arguments without an explicit keyword will result in an error or misinterpretation.\n",
            "  FutureWarning\n",
            "/usr/local/lib/python3.7/dist-packages/seaborn/_decorators.py:43: FutureWarning: Pass the following variable as a keyword arg: x. From version 0.12, the only valid positional argument will be `data`, and passing other arguments without an explicit keyword will result in an error or misinterpretation.\n",
            "  FutureWarning\n",
            "/usr/local/lib/python3.7/dist-packages/seaborn/_decorators.py:43: FutureWarning: Pass the following variable as a keyword arg: x. From version 0.12, the only valid positional argument will be `data`, and passing other arguments without an explicit keyword will result in an error or misinterpretation.\n",
            "  FutureWarning\n",
            "/usr/local/lib/python3.7/dist-packages/seaborn/_decorators.py:43: FutureWarning: Pass the following variable as a keyword arg: x. From version 0.12, the only valid positional argument will be `data`, and passing other arguments without an explicit keyword will result in an error or misinterpretation.\n",
            "  FutureWarning\n",
            "/usr/local/lib/python3.7/dist-packages/seaborn/_decorators.py:43: FutureWarning: Pass the following variable as a keyword arg: x. From version 0.12, the only valid positional argument will be `data`, and passing other arguments without an explicit keyword will result in an error or misinterpretation.\n",
            "  FutureWarning\n",
            "/usr/local/lib/python3.7/dist-packages/seaborn/_decorators.py:43: FutureWarning: Pass the following variable as a keyword arg: x. From version 0.12, the only valid positional argument will be `data`, and passing other arguments without an explicit keyword will result in an error or misinterpretation.\n",
            "  FutureWarning\n",
            "/usr/local/lib/python3.7/dist-packages/seaborn/_decorators.py:43: FutureWarning: Pass the following variable as a keyword arg: x. From version 0.12, the only valid positional argument will be `data`, and passing other arguments without an explicit keyword will result in an error or misinterpretation.\n",
            "  FutureWarning\n"
          ],
          "name": "stderr"
        },
        {
          "output_type": "display_data",
          "data": {
            "image/png": "[encoded data removed]",
            "text/plain": [
              "<Figure size 1080x1440 with 10 Axes>"
            ]
          },
          "metadata": {
            "needs_background": "light"
          }
        }
      ]
    },
    {
      "cell_type": "markdown",
      "metadata": {
        "id": "83exSZpYkIG8"
      },
      "source": [
        "#### Discussion 1.1.3: Assess Missing Data in Each Row\n",
        "\n",
        "\n",
        "\n",
        "i tried different columns but these 5, some are pretty close and others not like FINANZ_MINIMALIST, SEMIO_ERL, CJT_GESAMTTYP"
      ]
    },
    {
      "cell_type": "markdown",
      "metadata": {
        "id": "fgJjCPVNkIG8"
      },
      "source": [
        "### Step 1.2: Select and Re-Encode Features\n",
        "\n",
        "Checking for missing data isn't the only way in which you can prepare a dataset for analysis. Since the unsupervised learning techniques to be used will only work on data that is encoded numerically, you need to make a few encoding changes or additional assumptions to be able to make progress. In addition, while almost all of the values in the dataset are encoded using numbers, not all of them represent numeric values. Check the third column of the feature summary (`feat_info`) for a summary of types of measurement.\n",
        "- For numeric and interval data, these features can be kept without changes.\n",
        "- Most of the variables in the dataset are ordinal in nature. While ordinal values may technically be non-linear in spacing, make the simplifying assumption that the ordinal variables can be treated as being interval in nature (that is, kept without any changes).\n",
        "- Special handling may be necessary for the remaining two variable types: categorical, and 'mixed'.\n",
        "\n",
        "In the first two parts of this sub-step, you will perform an investigation of the categorical and mixed-type features and make a decision on each of them, whether you will keep, drop, or re-encode each. Then, in the last part, you will create a new data frame with only the selected and engineered columns.\n",
        "\n",
        "Data wrangling is often the trickiest part of the data analysis process, and there's a lot of it to be done here. But stick with it: once you're done with this step, you'll be ready to get to the machine learning parts of the project!"
      ]
    },
    {
      "cell_type": "code",
      "metadata": {
        "colab": {
          "base_uri": "https://localhost:8080/",
          "height": 205
        },
        "id": "zJC-w-yiGGaa",
        "outputId": "e9efd467-e145-4bcb-8093-9e1f583de46c"
      },
      "source": [
        "feat_info.head()"
      ],
      "execution_count": 61,
      "outputs": [
        {
          "output_type": "execute_result",
          "data": {
            "text/html": [
              "<div>\n",
              "<style scoped>\n",
              "    .dataframe tbody tr th:only-of-type {\n",
              "        vertical-align: middle;\n",
              "    }\n",
              "\n",
              "    .dataframe tbody tr th {\n",
              "        vertical-align: top;\n",
              "    }\n",
              "\n",
              "    .dataframe thead th {\n",
              "        text-align: right;\n",
              "    }\n",
              "</style>\n",
              "<table border=\"1\" class=\"dataframe\">\n",
              "  <thead>\n",
              "    <tr style=\"text-align: right;\">\n",
              "      <th></th>\n",
              "      <th>attribute</th>\n",
              "      <th>information_level</th>\n",
              "      <th>type</th>\n",
              "      <th>missing_or_unknown</th>\n",
              "    </tr>\n",
              "  </thead>\n",
              "  <tbody>\n",
              "    <tr>\n",
              "      <th>0</th>\n",
              "      <td>AGER_TYP</td>\n",
              "      <td>person</td>\n",
              "      <td>categorical</td>\n",
              "      <td>[-1,0]</td>\n",
              "    </tr>\n",
              "    <tr>\n",
              "      <th>1</th>\n",
              "      <td>ALTERSKATEGORIE_GROB</td>\n",
              "      <td>person</td>\n",
              "      <td>ordinal</td>\n",
              "      <td>[-1,0,9]</td>\n",
              "    </tr>\n",
              "    <tr>\n",
              "      <th>2</th>\n",
              "      <td>ANREDE_KZ</td>\n",
              "      <td>person</td>\n",
              "      <td>categorical</td>\n",
              "      <td>[-1,0]</td>\n",
              "    </tr>\n",
              "    <tr>\n",
              "      <th>3</th>\n",
              "      <td>CJT_GESAMTTYP</td>\n",
              "      <td>person</td>\n",
              "      <td>categorical</td>\n",
              "      <td>[0]</td>\n",
              "    </tr>\n",
              "    <tr>\n",
              "      <th>4</th>\n",
              "      <td>FINANZ_MINIMALIST</td>\n",
              "      <td>person</td>\n",
              "      <td>ordinal</td>\n",
              "      <td>[-1]</td>\n",
              "    </tr>\n",
              "  </tbody>\n",
              "</table>\n",
              "</div>"
            ],
            "text/plain": [
              "              attribute information_level         type missing_or_unknown\n",
              "0              AGER_TYP            person  categorical             [-1,0]\n",
              "1  ALTERSKATEGORIE_GROB            person      ordinal           [-1,0,9]\n",
              "2             ANREDE_KZ            person  categorical             [-1,0]\n",
              "3         CJT_GESAMTTYP            person  categorical                [0]\n",
              "4     FINANZ_MINIMALIST            person      ordinal               [-1]"
            ]
          },
          "metadata": {},
          "execution_count": 61
        }
      ]
    },
    {
      "cell_type": "code",
      "metadata": {
        "id": "bfk6cLd8kIG8",
        "colab": {
          "base_uri": "https://localhost:8080/"
        },
        "outputId": "7a080060-5a63-4186-f255-edabc6622af8"
      },
      "source": [
        "# How many features are there of each data type?\n",
        "\n",
        "print(feat_info[\"type\"].unique())\n",
        "print(\"categorical \",(feat_info[\"type\"]==\"categorical\").sum())\n",
        "print(\"ordinal \",(feat_info[\"type\"]==\"ordinal\").sum())\n",
        "print(\"numeric \",(feat_info[\"type\"]==\"numeric\").sum())\n",
        "print(\"mixed \",(feat_info[\"type\"]==\"mixed\").sum())\n",
        "print(\"interval \",(feat_info[\"type\"]==\"interval\").sum())\n"
      ],
      "execution_count": 62,
      "outputs": [
        {
          "output_type": "stream",
          "text": [
            "['categorical' 'ordinal' 'numeric' 'mixed' 'interval']\n",
            "categorical  21\n",
            "ordinal  49\n",
            "numeric  7\n",
            "mixed  7\n",
            "interval  1\n"
          ],
          "name": "stdout"
        }
      ]
    },
    {
      "cell_type": "markdown",
      "metadata": {
        "id": "35j6AxC3kIG8"
      },
      "source": [
        "#### Step 1.2.1: Re-Encode Categorical Features\n",
        "\n",
        "For categorical data, you would ordinarily need to encode the levels as dummy variables. Depending on the number of categories, perform one of the following:\n",
        "- For binary (two-level) categoricals that take numeric values, you can keep them without needing to do anything.\n",
        "- There is one binary variable that takes on non-numeric values. For this one, you need to re-encode the values as numbers or create a dummy variable.\n",
        "- For multi-level categoricals (three or more values), you can choose to encode the values using multiple dummy variables (e.g. via [OneHotEncoder](http://scikit-learn.org/stable/modules/generated/sklearn.preprocessing.OneHotEncoder.html)), or (to keep things straightforward) just drop them from the analysis. As always, document your choices in the Discussion section."
      ]
    },
    {
      "cell_type": "code",
      "metadata": {
        "id": "GtJyKRHvkIG9",
        "colab": {
          "base_uri": "https://localhost:8080/"
        },
        "outputId": "cd1d51cb-9dd2-4f0c-f6ea-01849a638968"
      },
      "source": [
        "# Assess categorical variables: which are binary, which are multi-level, and\n",
        "# which one needs to be re-encoded?\n",
        "catlen=dict()\n",
        "for k in (feat_info[feat_info[\"type\"]==\"categorical\"].attribute):\n",
        "  if k in azdias_less_than_10.columns:\n",
        "    catlen[k]=azdias_less_than_10[k].nunique()\n",
        "    print(k,azdias_less_than_10[k].nunique())\n"
      ],
      "execution_count": 63,
      "outputs": [
        {
          "output_type": "stream",
          "text": [
            "ANREDE_KZ 2\n",
            "CJT_GESAMTTYP 6\n",
            "FINANZTYP 6\n",
            "GFK_URLAUBERTYP 12\n",
            "GREEN_AVANTGARDE 2\n",
            "LP_FAMILIE_FEIN 11\n",
            "LP_FAMILIE_GROB 5\n",
            "LP_STATUS_FEIN 10\n",
            "LP_STATUS_GROB 5\n",
            "NATIONALITAET_KZ 3\n",
            "SHOPPER_TYP 4\n",
            "SOHO_KZ 2\n",
            "VERS_TYP 2\n",
            "ZABEOTYP 6\n",
            "GEBAEUDETYP 7\n",
            "OST_WEST_KZ 2\n",
            "CAMEO_DEUG_2015 10\n",
            "CAMEO_DEU_2015 45\n"
          ],
          "name": "stdout"
        }
      ]
    },
    {
      "cell_type": "code",
      "metadata": {
        "id": "fq_pQvhGkIG9",
        "colab": {
          "base_uri": "https://localhost:8080/"
        },
        "outputId": "95de0c20-2304-4dcc-f59c-795c6d6e5932"
      },
      "source": [
        "# Re-encode categorical variable(s) to be kept in the analysis.\n",
        "\n",
        "manyvalues=dict()\n",
        "for key in catlen:\n",
        "  if catlen.get(key) == 2:\n",
        "    print(key,azdias_less_than_10[key].unique())\n",
        "  else :\n",
        "    manyvalues[key]=catlen.get(key)\n",
        "\n",
        "\n",
        "\n",
        "\n"
      ],
      "execution_count": 64,
      "outputs": [
        {
          "output_type": "stream",
          "text": [
            "ANREDE_KZ [2 1]\n",
            "GREEN_AVANTGARDE [0 1]\n",
            "SOHO_KZ [1. 0.]\n",
            "VERS_TYP [ 2.  1. nan]\n",
            "OST_WEST_KZ ['W' 'O']\n"
          ],
          "name": "stdout"
        }
      ]
    },
    {
      "cell_type": "code",
      "metadata": {
        "colab": {
          "base_uri": "https://localhost:8080/"
        },
        "id": "c68LiKCxKGtX",
        "outputId": "66902eba-231e-408a-b4f6-a10abc9ca230"
      },
      "source": [
        "#OST_WEST_KZ\n",
        "azdias_less_than_10[\"OST_WEST_KZ\"] = pd.get_dummies(azdias_less_than_10[\"OST_WEST_KZ\"])\n",
        "azdias_less_than_10[\"OST_WEST_KZ\"].head()\n",
        "print(azdias_less_than_10[\"OST_WEST_KZ\"].unique())"
      ],
      "execution_count": 65,
      "outputs": [
        {
          "output_type": "stream",
          "text": [
            "[0 1]\n"
          ],
          "name": "stdout"
        },
        {
          "output_type": "stream",
          "text": [
            "/usr/local/lib/python3.7/dist-packages/ipykernel_launcher.py:2: SettingWithCopyWarning: \n",
            "A value is trying to be set on a copy of a slice from a DataFrame.\n",
            "Try using .loc[row_indexer,col_indexer] = value instead\n",
            "\n",
            "See the caveats in the documentation: https://pandas.pydata.org/pandas-docs/stable/user_guide/indexing.html#returning-a-view-versus-a-copy\n",
            "  \n"
          ],
          "name": "stderr"
        }
      ]
    },
    {
      "cell_type": "code",
      "metadata": {
        "colab": {
          "base_uri": "https://localhost:8080/"
        },
        "id": "eRF3kH79KsCQ",
        "outputId": "73abe42b-6c5a-40a5-951d-427376d7f896"
      },
      "source": [
        "#drop multilevel\n",
        "new_azdias = azdias_less_than_10.drop(list(manyvalues.keys()), axis = 1)\n",
        "print(azdias_less_than_10.shape)\n",
        "print(new_azdias.shape)"
      ],
      "execution_count": 66,
      "outputs": [
        {
          "output_type": "stream",
          "text": [
            "(780182, 79)\n",
            "(780182, 66)\n"
          ],
          "name": "stdout"
        }
      ]
    },
    {
      "cell_type": "markdown",
      "metadata": {
        "id": "egMtagu0kIG9"
      },
      "source": [
        "#### Discussion 1.2.1: Re-Encode Categorical Features\n",
        "\n",
        "i kept binary ones with OST_WEST_KZ dummy values and dropped all multilevel attributes. i got the binary attributes first to check which is the non numeric and i used get_dummies to get dummies for it(OST_WEST_KZ), then i dropped all that not binary.\n"
      ]
    },
    {
      "cell_type": "markdown",
      "metadata": {
        "id": "M_FCim0akIG9"
      },
      "source": [
        "#### Step 1.2.2: Engineer Mixed-Type Features\n",
        "\n",
        "There are a handful of features that are marked as \"mixed\" in the feature summary that require special treatment in order to be included in the analysis. There are two in particular that deserve attention; the handling of the rest are up to your own choices:\n",
        "- \"PRAEGENDE_JUGENDJAHRE\" combines information on three dimensions: generation by decade, movement (mainstream vs. avantgarde), and nation (east vs. west). While there aren't enough levels to disentangle east from west, you should create two new variables to capture the other two dimensions: an interval-type variable for decade, and a binary variable for movement.\n",
        "- \"CAMEO_INTL_2015\" combines information on two axes: wealth and life stage. Break up the two-digit codes by their 'tens'-place and 'ones'-place digits into two new ordinal variables (which, for the purposes of this project, is equivalent to just treating them as their raw numeric values).\n",
        "- If you decide to keep or engineer new features around the other mixed-type features, make sure you note your steps in the Discussion section.\n",
        "\n",
        "Be sure to check `Data_Dictionary.md` for the details needed to finish these tasks."
      ]
    },
    {
      "cell_type": "code",
      "metadata": {
        "id": "uJ8za8FTkIG9",
        "colab": {
          "base_uri": "https://localhost:8080/"
        },
        "outputId": "93ab9161-e341-4c6b-8562-ae0a5dd3cf39"
      },
      "source": [
        "# Investigate \"PRAEGENDE_JUGENDJAHRE\" and engineer two new variables.\n",
        "\n",
        "print(new_azdias[\"PRAEGENDE_JUGENDJAHRE\"].unique())\n",
        "praegende_jugendjahre_dec = {1.: 40, 2.: 40, 3.: 50, 4.: 50, 5.: 60, 6.: 60, 7.: 60, 8.: 70, 9.:70, 10.:80, 11.:80, 12.: 80, 13.:80, 14.:90, 15.:90}\n",
        "praegende_jugendjahre_move = {1.:0, 2.:1, 3.:0, 4.:1, 5.:0, 6.:1, 7.:1 ,8.:0 ,9.:1, 10.:0, 11.:1, 12.:0 ,13.:1 ,14.:0, 15.:1}"
      ],
      "execution_count": 67,
      "outputs": [
        {
          "output_type": "stream",
          "text": [
            "[14. 15.  8.  3. 10. 11.  5.  9.  6.  4. nan  2.  1. 12. 13.  7.]\n"
          ],
          "name": "stdout"
        }
      ]
    },
    {
      "cell_type": "code",
      "metadata": {
        "colab": {
          "base_uri": "https://localhost:8080/"
        },
        "id": "q5u2oZFXRU7m",
        "outputId": "bfad222a-cab9-4199-b4cc-1c3e9e48c946"
      },
      "source": [
        "\n",
        "new_azdias[\"PRAEGENDE_JUGENDJAHRE_DEC\"] = new_azdias[\"PRAEGENDE_JUGENDJAHRE\"].map(praegende_jugendjahre_dec, na_action = \"ignore\")\n",
        "new_azdias[\"PRAEGENDE_JUGENDJAHRE_MOVE\"] = new_azdias[\"PRAEGENDE_JUGENDJAHRE\"].map(praegende_jugendjahre_move, na_action = \"ignore\")\n",
        "\n",
        "print(new_azdias.shape)"
      ],
      "execution_count": 68,
      "outputs": [
        {
          "output_type": "stream",
          "text": [
            "(780182, 68)\n"
          ],
          "name": "stdout"
        }
      ]
    },
    {
      "cell_type": "code",
      "metadata": {
        "id": "u7oi47b1kIG-",
        "colab": {
          "base_uri": "https://localhost:8080/"
        },
        "outputId": "9687d1f5-ee1a-424b-f0f4-ce63f16a5fab"
      },
      "source": [
        "# Investigate \"CAMEO_INTL_2015\" and engineer two new variables.\n",
        "\n",
        "print(new_azdias[\"CAMEO_INTL_2015\"].unique())\n",
        "unique_cameo = [value for value in new_azdias[\"CAMEO_INTL_2015\"].unique() if (str(value) != \"nan\" and str(value) != \"XX\")]\n",
        "print(unique_cameo)"
      ],
      "execution_count": 69,
      "outputs": [
        {
          "output_type": "stream",
          "text": [
            "['51' '24' '12' '43' '54' '22' '14' '13' '15' '33' '41' '34' '55' '25' nan\n",
            " '23' '31' '52' '35' '45' '44' '32' 'XX']\n",
            "['51', '24', '12', '43', '54', '22', '14', '13', '15', '33', '41', '34', '55', '25', '23', '31', '52', '35', '45', '44', '32']\n"
          ],
          "name": "stdout"
        }
      ]
    },
    {
      "cell_type": "code",
      "metadata": {
        "id": "I7jTvX9ISKCR"
      },
      "source": [
        "poss_aff_values = np.append(unique_cameo, \"11\")\n",
        "def find_numpos_label(tag, ones):\n",
        "    if ones:\n",
        "        label = tag[-1]\n",
        "        return int(label)\n",
        "    else:     \n",
        "        label = tag[0]\n",
        "        return int(label)\n",
        "\n",
        "def find_cameo_label(x):\n",
        "    cameo_intl_2015_affluence = dict()\n",
        "    cameo_intl_2015_family_struct = dict()  \n",
        "    for tag in x:      \n",
        "        cameo_intl_2015_affluence[tag] = find_numpos_label(tag, ones = False)\n",
        "        cameo_intl_2015_family_struct[tag] = find_numpos_label(tag, ones = True)       \n",
        "    return cameo_intl_2015_affluence, cameo_intl_2015_family_struct \n",
        "\n",
        "cameo_intl_2015_affluence, cameo_intl_2015_family_struct = find_cameo_label(poss_aff_values)"
      ],
      "execution_count": 70,
      "outputs": []
    },
    {
      "cell_type": "code",
      "metadata": {
        "colab": {
          "base_uri": "https://localhost:8080/"
        },
        "id": "H9j0M_VgVY2C",
        "outputId": "ddfa0b9f-1590-4c6c-bb0c-1b99d5e93f47"
      },
      "source": [
        "print(cameo_intl_2015_affluence)\n",
        "print(\"\\n\")\n",
        "print(cameo_intl_2015_family_struct)\n",
        "new_azdias[\"CAMEO_INTL_2015_AFF\"] = new_azdias[\"CAMEO_INTL_2015\"].map(cameo_intl_2015_affluence, na_action = \"ignore\")\n",
        "new_azdias[\"CAMEO_INTL_2015_FAM_STRUCT\"] = new_azdias[\"CAMEO_INTL_2015\"].map(cameo_intl_2015_family_struct, na_action = \"ignore\")\n",
        "\n",
        "print(new_azdias.shape)"
      ],
      "execution_count": 71,
      "outputs": [
        {
          "output_type": "stream",
          "text": [
            "{'51': 5, '24': 2, '12': 1, '43': 4, '54': 5, '22': 2, '14': 1, '13': 1, '15': 1, '33': 3, '41': 4, '34': 3, '55': 5, '25': 2, '23': 2, '31': 3, '52': 5, '35': 3, '45': 4, '44': 4, '32': 3, '11': 1}\n",
            "\n",
            "\n",
            "{'51': 1, '24': 4, '12': 2, '43': 3, '54': 4, '22': 2, '14': 4, '13': 3, '15': 5, '33': 3, '41': 1, '34': 4, '55': 5, '25': 5, '23': 3, '31': 1, '52': 2, '35': 5, '45': 5, '44': 4, '32': 2, '11': 1}\n",
            "(780182, 70)\n"
          ],
          "name": "stdout"
        }
      ]
    },
    {
      "cell_type": "code",
      "metadata": {
        "colab": {
          "base_uri": "https://localhost:8080/"
        },
        "id": "aUh14zGKWKAB",
        "outputId": "9b7ba77e-f3cc-43cf-aa3c-66c302062842"
      },
      "source": [
        "mixed=dict()\n",
        "for k in (feat_info[feat_info[\"type\"]==\"mixed\"].attribute):\n",
        "  if (k in new_azdias.columns ):\n",
        "    mixed[k]=new_azdias[k].nunique()\n",
        "    print(k,new_azdias[k].nunique())\n",
        "print(mixed)"
      ],
      "execution_count": 72,
      "outputs": [
        {
          "output_type": "stream",
          "text": [
            "LP_LEBENSPHASE_FEIN 40\n",
            "LP_LEBENSPHASE_GROB 12\n",
            "PRAEGENDE_JUGENDJAHRE 15\n",
            "WOHNLAGE 8\n",
            "CAMEO_INTL_2015 22\n",
            "PLZ8_BAUMAX 5\n",
            "{'LP_LEBENSPHASE_FEIN': 40, 'LP_LEBENSPHASE_GROB': 12, 'PRAEGENDE_JUGENDJAHRE': 15, 'WOHNLAGE': 8, 'CAMEO_INTL_2015': 22, 'PLZ8_BAUMAX': 5}\n"
          ],
          "name": "stdout"
        }
      ]
    },
    {
      "cell_type": "code",
      "metadata": {
        "colab": {
          "base_uri": "https://localhost:8080/"
        },
        "id": "c8Y3KAC6YC1X",
        "outputId": "eb5bac7b-bdf5-4957-c8fa-e41f0b321e05"
      },
      "source": [
        "print(new_azdias.shape)\n",
        "new_azdias = new_azdias.drop(list(mixed.keys()), axis = 1)\n",
        "print(new_azdias.shape)"
      ],
      "execution_count": 73,
      "outputs": [
        {
          "output_type": "stream",
          "text": [
            "(780182, 70)\n",
            "(780182, 64)\n"
          ],
          "name": "stdout"
        }
      ]
    },
    {
      "cell_type": "code",
      "metadata": {
        "id": "UQs77aAfklMp"
      },
      "source": [
        "azdias_columns = new_azdias.columns"
      ],
      "execution_count": 74,
      "outputs": []
    },
    {
      "cell_type": "markdown",
      "metadata": {
        "id": "xEKJTvxwkIG-"
      },
      "source": [
        "#### Discussion 1.2.2: Engineer Mixed-Type Features\n",
        "\n",
        "\n",
        "i dropped all the mixed attributes but for PRAEGENDE_JUGENDJAHRE i divided it to PRAEGENDE_JUGENDJAHRE_DEC and PRAEGENDE_JUGENDJAHRE_MOVE. the same for CAMEO_INTL_2015 divided to CAMEO_INTL_2015_AFF and CAMEO_INTL_2015_FAM_STRUCT"
      ]
    },
    {
      "cell_type": "markdown",
      "metadata": {
        "id": "fp-nmHEEkIG-"
      },
      "source": [
        "#### Step 1.2.3: Complete Feature Selection\n",
        "\n",
        "In order to finish this step up, you need to make sure that your data frame now only has the columns that you want to keep. To summarize, the dataframe should consist of the following:\n",
        "- All numeric, interval, and ordinal type columns from the original dataset.\n",
        "- Binary categorical features (all numerically-encoded).\n",
        "- Engineered features from other multi-level categorical features and mixed features.\n",
        "\n",
        "Make sure that for any new columns that you have engineered, that you've excluded the original columns from the final dataset. Otherwise, their values will interfere with the analysis later on the project. For example, you should not keep \"PRAEGENDE_JUGENDJAHRE\", since its values won't be useful for the algorithm: only the values derived from it in the engineered features you created should be retained. As a reminder, your data should only be from **the subset with few or no missing values**."
      ]
    },
    {
      "cell_type": "code",
      "metadata": {
        "id": "NHOBT6vXkIG-",
        "colab": {
          "base_uri": "https://localhost:8080/"
        },
        "outputId": "1813110a-4bd5-4f25-ccf0-a33c25fce4be"
      },
      "source": [
        "# If there are other re-engineering tasks you need to perform, make sure you\n",
        "# take care of them here. (Dealing with missing data will come in step 2.1.)\n",
        "\n",
        "print(new_azdias.columns)"
      ],
      "execution_count": 75,
      "outputs": [
        {
          "output_type": "stream",
          "text": [
            "Index(['ALTERSKATEGORIE_GROB', 'ANREDE_KZ', 'FINANZ_MINIMALIST',\n",
            "       'FINANZ_SPARER', 'FINANZ_VORSORGER', 'FINANZ_ANLEGER',\n",
            "       'FINANZ_UNAUFFAELLIGER', 'FINANZ_HAUSBAUER', 'GREEN_AVANTGARDE',\n",
            "       'HEALTH_TYP', 'RETOURTYP_BK_S', 'SEMIO_SOZ', 'SEMIO_FAM', 'SEMIO_REL',\n",
            "       'SEMIO_MAT', 'SEMIO_VERT', 'SEMIO_LUST', 'SEMIO_ERL', 'SEMIO_KULT',\n",
            "       'SEMIO_RAT', 'SEMIO_KRIT', 'SEMIO_DOM', 'SEMIO_KAEM', 'SEMIO_PFLICHT',\n",
            "       'SEMIO_TRADV', 'SOHO_KZ', 'VERS_TYP', 'ANZ_PERSONEN', 'ANZ_TITEL',\n",
            "       'HH_EINKOMMEN_SCORE', 'W_KEIT_KIND_HH', 'WOHNDAUER_2008',\n",
            "       'ANZ_HAUSHALTE_AKTIV', 'ANZ_HH_TITEL', 'KONSUMNAEHE',\n",
            "       'MIN_GEBAEUDEJAHR', 'OST_WEST_KZ', 'KBA05_ANTG1', 'KBA05_ANTG2',\n",
            "       'KBA05_ANTG3', 'KBA05_ANTG4', 'KBA05_GBZ', 'BALLRAUM', 'EWDICHTE',\n",
            "       'INNENSTADT', 'GEBAEUDETYP_RASTER', 'KKK', 'MOBI_REGIO',\n",
            "       'ONLINE_AFFINITAET', 'REGIOTYP', 'KBA13_ANZAHL_PKW', 'PLZ8_ANTG1',\n",
            "       'PLZ8_ANTG2', 'PLZ8_ANTG3', 'PLZ8_ANTG4', 'PLZ8_HHZ', 'PLZ8_GBZ',\n",
            "       'ARBEIT', 'ORTSGR_KLS9', 'RELAT_AB', 'PRAEGENDE_JUGENDJAHRE_DEC',\n",
            "       'PRAEGENDE_JUGENDJAHRE_MOVE', 'CAMEO_INTL_2015_AFF',\n",
            "       'CAMEO_INTL_2015_FAM_STRUCT'],\n",
            "      dtype='object')\n"
          ],
          "name": "stdout"
        }
      ]
    },
    {
      "cell_type": "code",
      "metadata": {
        "id": "OjK6OzFgkIG-",
        "colab": {
          "base_uri": "https://localhost:8080/"
        },
        "outputId": "177bc3dd-21cf-4d15-d5b4-576f5c31f9dd"
      },
      "source": [
        "# Do whatever you need to in order to ensure that the dataframe only contains\n",
        "# the columns that should be passed to the algorithm functions.\n",
        "# Assess categorical variables: which are binary, which are multi-level, and\n",
        "# which one needs to be re-encoded?\n",
        "catlen=dict()\n",
        "for k in (feat_info[feat_info[\"type\"]==\"categorical\"].attribute):\n",
        "  if k in new_azdias.columns:\n",
        "    catlen[k]=new_azdias[k].nunique()\n",
        "    print(k,new_azdias[k].nunique())\n",
        "# Re-encode categorical variable(s) to be kept in the analysis.\n",
        "\n",
        "manyvalues=dict()\n",
        "for key in catlen:\n",
        "  if catlen.get(key) == 2:\n",
        "    print(key,new_azdias[key].unique())\n",
        "  else :\n",
        "    manyvalues[key]=catlen.get(key)\n",
        "\n",
        "\n",
        "\n",
        "\n",
        "\n"
      ],
      "execution_count": 76,
      "outputs": [
        {
          "output_type": "stream",
          "text": [
            "ANREDE_KZ 2\n",
            "GREEN_AVANTGARDE 2\n",
            "SOHO_KZ 2\n",
            "VERS_TYP 2\n",
            "OST_WEST_KZ 2\n",
            "ANREDE_KZ [2 1]\n",
            "GREEN_AVANTGARDE [0 1]\n",
            "SOHO_KZ [1. 0.]\n",
            "VERS_TYP [ 2.  1. nan]\n",
            "OST_WEST_KZ [0 1]\n"
          ],
          "name": "stdout"
        }
      ]
    },
    {
      "cell_type": "markdown",
      "metadata": {
        "id": "OtDl0lU2kIG-"
      },
      "source": [
        "### Step 1.3: Create a Cleaning Function\n",
        "\n",
        "Even though you've finished cleaning up the general population demographics data, it's important to look ahead to the future and realize that you'll need to perform the same cleaning steps on the customer demographics data. In this substep, complete the function below to execute the main feature selection, encoding, and re-engineering steps you performed above. Then, when it comes to looking at the customer data in Step 3, you can just run this function on that DataFrame to get the trimmed dataset in a single step."
      ]
    },
    {
      "cell_type": "code",
      "metadata": {
        "id": "FA4dYQXqkIG-"
      },
      "source": [
        "def clean_data(df):\n",
        "\n",
        "    \"\"\"\n",
        "    Perform feature trimming, re-encoding, and engineering for demographics\n",
        "    data\n",
        "    \n",
        "    INPUT: Demographics DataFrame\n",
        "    OUTPUT: Trimmed and cleaned demographics DataFrame\n",
        "    \"\"\"\n",
        "    \n",
        "    # Put in code here to execute all main cleaning steps:\n",
        "    # convert missing value codes into NaNs, ...\n",
        "    attr_info = feat_info.set_index('attribute')\n",
        "    na_df = df.copy()\n",
        "    \n",
        "    #for column in na_df.columns:\n",
        "    #    na_df[column].replace(attr_info.loc[column].loc['Na_list'],np.NaN,inplace=True)\n",
        "    for k in a_dict:\n",
        "      for m in a_dict.get(k):\n",
        "        na_df[k].replace({m: np.nan},inplace = True)\n",
        "        na_df[k].replace({pd.to_numeric('X',errors='coerce'): np.nan, pd.to_numeric('XX',errors='coerce'): np.nan},inplace = True)\n",
        "\n",
        "    # remove selected columns and rows, ...\n",
        "    \n",
        "    #remove high nans columns\n",
        "    #num_name_of_na_per_col = dict()\n",
        "    #column_thresh = 200000\n",
        "    \n",
        "    #for column in na_df:\n",
        "     #   sum_per_col = na_df[column].isna().sum()\n",
        "      #  if sum_per_col > column_thresh:\n",
        "       #     num_name_of_na_per_col[column] = sum_per_col\n",
        "    \n",
        "    #outliers = num_name_of_na_per_col.keys()\n",
        "    na_df = na_df.drop(outliers, axis = 1)\n",
        "    \n",
        "    #remove high nan rows\n",
        "    row_thresh = 10\n",
        "    azdias_many_values = na_df[na_df.isnull().sum(axis = 1) <= 10]\n",
        "    azdias_many_values[\"OST_WEST_KZ\"] = pd.get_dummies(azdias_many_values[\"OST_WEST_KZ\"])\n",
        "    #Drop remaining multi-categ features\n",
        "    multi_var_categ = ['CJT_GESAMTTYP',\n",
        "     'FINANZTYP',\n",
        "     'GFK_URLAUBERTYP',\n",
        "     'LP_FAMILIE_FEIN',\n",
        "     'LP_FAMILIE_GROB',\n",
        "     'LP_STATUS_FEIN',\n",
        "     'LP_STATUS_GROB',\n",
        "     'NATIONALITAET_KZ',\n",
        "     'SHOPPER_TYP',\n",
        "     'ZABEOTYP',\n",
        "     'GEBAEUDETYP',\n",
        "     'CAMEO_DEUG_2015',\n",
        "     'CAMEO_DEU_2015']\n",
        "    \n",
        "    cond_azdias = azdias_many_values.drop(list(multi_var_categ), axis = 1)\n",
        "    #Engineer mixed values\n",
        "    \n",
        "    praegende_jugendjahre_gen = {1.: 40, 2.: 40, 3.: 50, 4.: 50, 5.: 60, 6.: 60, 7.: 60, 8.: 70, 9.:70, 10.:80, 11.:80, 12.: 80, 13.:80, 14.:90, 15.:90}\n",
        "    praegende_jugendjahre_move = {1.:0, 2.:1, 3.:0, 4.:1, 5.:0, 6.:1, 7.:1 ,8.:0 ,9.:1, 10.:0, 11.:1, 12.:0 ,13.:1 ,14.:0, 15.:1}\n",
        "    \n",
        "    cond_azdias[\"PRAEGENDE_JUGENDJAHRE_GEN\"] = cond_azdias[\"PRAEGENDE_JUGENDJAHRE\"].map(praegende_jugendjahre_gen, na_action = \"ignore\")\n",
        "    cond_azdias[\"PRAEGENDE_JUGENDJAHRE_MOVE\"] = cond_azdias[\"PRAEGENDE_JUGENDJAHRE\"].map(praegende_jugendjahre_move, na_action = \"ignore\")\n",
        "    cameo_intl_2015_affluence = {'51': 5, '24': 2, '12': 1, '43': 4, '54': 5, '22': 2, '14': 1, '13': 1, '15': 1, '33': 3, '41': 4, '34': 3, '55': 5, '25': 2, '23': 2, '31': 3, '52': 5, '35': 3, '45': 4, '44': 4, '32': 3, '11': 1}\n",
        "    cameo_intl_2015_family_struct = {'51': 1, '24': 4, '12': 2, '43': 3, '54': 4, '22': 2, '14': 4, '13': 3, '15': 5, '33': 3, '41': 1, '34': 4, '55': 5, '25': 5, '23': 3, '31': 1, '52': 2, '35': 5, '45': 5, '44': 4, '32': 2, '11': 1}\n",
        "    \n",
        "    cond_azdias[\"CAMEO_INTL_2015_AFF\"] = cond_azdias[\"CAMEO_INTL_2015\"].map(cameo_intl_2015_affluence, na_action = \"ignore\")\n",
        "    cond_azdias[\"CAMEO_INTL_2015_FAM_STRUCT\"] = cond_azdias[\"CAMEO_INTL_2015\"].map(cameo_intl_2015_family_struct, na_action = \"ignore\")\n",
        "    \n",
        "    #Drop the remaining mixed variables\n",
        "    list_of_mixed_categ = ['LP_LEBENSPHASE_FEIN', 'LP_LEBENSPHASE_GROB', 'PRAEGENDE_JUGENDJAHRE', 'WOHNLAGE', 'CAMEO_INTL_2015', 'PLZ8_BAUMAX']\n",
        "    cond_azdias = cond_azdias.drop(list_of_mixed_categ, axis = 1)\n",
        "    \n",
        "    # Return the cleaned dataframe.\n",
        "    print(\"DataFrame shape: {}\".format(cond_azdias.shape))\n",
        "    return cond_azdias\n",
        "    \n",
        "    "
      ],
      "execution_count": 77,
      "outputs": []
    },
    {
      "cell_type": "code",
      "metadata": {
        "id": "C8tWJmIW7fkq",
        "colab": {
          "base_uri": "https://localhost:8080/"
        },
        "outputId": "ab4f36fe-b47b-4761-e76f-d1972861154c"
      },
      "source": [
        "print(new_azdias.shape[0] * new_azdias.shape[1], \"values\")\n",
        "print(new_azdias.isnull().sum().sum(), \"nan values\")"
      ],
      "execution_count": 78,
      "outputs": [
        {
          "output_type": "stream",
          "text": [
            "49931648 values\n",
            "529362 nan values\n"
          ],
          "name": "stdout"
        }
      ]
    },
    {
      "cell_type": "markdown",
      "metadata": {
        "id": "ByO8NvZXkIG_"
      },
      "source": [
        "## Step 2: Feature Transformation\n",
        "\n",
        "### Step 2.1: Apply Feature Scaling\n",
        "\n",
        "Before we apply dimensionality reduction techniques to the data, we need to perform feature scaling so that the principal component vectors are not influenced by the natural differences in scale for features. Starting from this part of the project, you'll want to keep an eye on the [API reference page for sklearn](http://scikit-learn.org/stable/modules/classes.html) to help you navigate to all of the classes and functions that you'll need. In this substep, you'll need to check the following:\n",
        "\n",
        "- sklearn requires that data not have missing values in order for its estimators to work properly. So, before applying the scaler to your data, make sure that you've cleaned the DataFrame of the remaining missing values. This can be as simple as just removing all data points with missing data, or applying an [Imputer](https://scikit-learn.org/0.16/modules/generated/sklearn.preprocessing.Imputer.html) to replace all missing values. You might also try a more complicated procedure where you temporarily remove missing values in order to compute the scaling parameters before re-introducing those missing values and applying imputation. Think about how much missing data you have and what possible effects each approach might have on your analysis, and justify your decision in the discussion section below.\n",
        "- For the actual scaling function, a [StandardScaler](http://scikit-learn.org/stable/modules/generated/sklearn.preprocessing.StandardScaler.html) instance is suggested, scaling each feature to mean 0 and standard deviation 1.\n",
        "- For these classes, you can make use of the `.fit_transform()` method to both fit a procedure to the data as well as apply the transformation to the data at the same time. Don't forget to keep the fit sklearn objects handy, since you'll be applying them to the customer demographics data towards the end of the project."
      ]
    },
    {
      "cell_type": "code",
      "metadata": {
        "id": "ncL9Ib_qkIG_",
        "colab": {
          "base_uri": "https://localhost:8080/"
        },
        "outputId": "f707ea9b-da8b-4fa9-eb26-f0a3e23b1764"
      },
      "source": [
        "# If you've not yet cleaned the dataset of all NaN values, then investigate and\n",
        "# do that now.\n",
        "import seaborn as sns\n",
        "from sklearn.decomposition import PCA\n",
        "from sklearn.cluster import KMeans\n",
        "from sklearn.experimental import enable_iterative_imputer\n",
        "from sklearn.impute import IterativeImputer\n",
        "\n",
        "\n",
        "MiceImputed = new_azdias.copy(deep=True) \n",
        "mice_imputer = IterativeImputer()\n",
        "MiceImputed.iloc[:, :] = mice_imputer.fit_transform(new_azdias)\n",
        "\n",
        "#imputer = Imputer()\n",
        "#cleaned_azdias = new_azdias.copy()\n",
        "#cleaned_azdias = imputer.fit_transform(cleaned_azdias)"
      ],
      "execution_count": 79,
      "outputs": [
        {
          "output_type": "stream",
          "text": [
            "/usr/local/lib/python3.7/dist-packages/sklearn/impute/_iterative.py:638: ConvergenceWarning: [IterativeImputer] Early stopping criterion not reached.\n",
            "  \" reached.\", ConvergenceWarning)\n"
          ],
          "name": "stderr"
        }
      ]
    },
    {
      "cell_type": "code",
      "metadata": {
        "id": "p3MQpWqL72PG",
        "colab": {
          "base_uri": "https://localhost:8080/"
        },
        "outputId": "693371f0-af15-4087-bcb3-d51313a35ab2"
      },
      "source": [
        "print(MiceImputed.shape[0] * MiceImputed.shape[1], \"values\")\n",
        "print(MiceImputed.isnull().sum().sum(), \"nan values\")"
      ],
      "execution_count": 80,
      "outputs": [
        {
          "output_type": "stream",
          "text": [
            "49931648 values\n",
            "0 nan values\n"
          ],
          "name": "stdout"
        }
      ]
    },
    {
      "cell_type": "code",
      "metadata": {
        "id": "DYp6ds4okIG_"
      },
      "source": [
        "# Apply feature scaling to the general population demographics data.\n",
        "from sklearn.preprocessing import StandardScaler\n",
        "scaler = StandardScaler()\n",
        "MiceImputed = scaler.fit_transform(MiceImputed)"
      ],
      "execution_count": 81,
      "outputs": []
    },
    {
      "cell_type": "markdown",
      "metadata": {
        "id": "sCDeVc-kkIG_"
      },
      "source": [
        "### Discussion 2.1: Apply Feature Scaling\n",
        "\n",
        "i applied iterative imputer, which replaced all the nans and the data became with no nans, then i applied standard scaler to make the data scaled, so one category of data is not weighted a lot more than the other "
      ]
    },
    {
      "cell_type": "markdown",
      "metadata": {
        "id": "z2Q9y85jkIG_"
      },
      "source": [
        "### Step 2.2: Perform Dimensionality Reduction\n",
        "\n",
        "On your scaled data, you are now ready to apply dimensionality reduction techniques.\n",
        "\n",
        "- Use sklearn's [PCA](http://scikit-learn.org/stable/modules/generated/sklearn.decomposition.PCA.html) class to apply principal component analysis on the data, thus finding the vectors of maximal variance in the data. To start, you should not set any parameters (so all components are computed) or set a number of components that is at least half the number of features (so there's enough features to see the general trend in variability).\n",
        "- Check out the ratio of variance explained by each principal component as well as the cumulative variance explained. Try plotting the cumulative or sequential values using matplotlib's [`plot()`](https://matplotlib.org/api/_as_gen/matplotlib.pyplot.plot.html) function. Based on what you find, select a value for the number of transformed features you'll retain for the clustering part of the project.\n",
        "- Once you've made a choice for the number of components to keep, make sure you re-fit a PCA instance to perform the decided-on transformation."
      ]
    },
    {
      "cell_type": "code",
      "metadata": {
        "colab": {
          "base_uri": "https://localhost:8080/"
        },
        "id": "GNUTUL8HEdSo",
        "outputId": "79ae6cd2-84af-4653-b96f-a6c690a1c9a1"
      },
      "source": [
        "\n",
        "MiceImputed.shape"
      ],
      "execution_count": 82,
      "outputs": [
        {
          "output_type": "execute_result",
          "data": {
            "text/plain": [
              "(780182, 64)"
            ]
          },
          "metadata": {},
          "execution_count": 82
        }
      ]
    },
    {
      "cell_type": "code",
      "metadata": {
        "id": "-I72jTqQkYnu"
      },
      "source": [
        ""
      ],
      "execution_count": 82,
      "outputs": []
    },
    {
      "cell_type": "code",
      "metadata": {
        "id": "K8Tke7S-kIG_",
        "colab": {
          "base_uri": "https://localhost:8080/"
        },
        "outputId": "8771782e-ddd6-49ef-aa15-ce5039c2021f"
      },
      "source": [
        "# Apply PCA to the data.\n",
        "list_of_components = list(range(1, 70, 10))\n",
        "pca_objects = [PCA(n_components) for n_components in list_of_components]\n",
        "pca_explained_variance = list()\n",
        "for pca_object in pca_objects:\n",
        "    reduced_azdias = pca_object.fit_transform(MiceImputed)\n",
        "    explained_variance = np.sum(pca_object.explained_variance_ratio_)\n",
        "    pca_explained_variance.append(explained_variance)\n",
        "\n",
        "print(pca_explained_variance)"
      ],
      "execution_count": 83,
      "outputs": [
        {
          "output_type": "stream",
          "text": [
            "[0.17148622681683592, 0.643681103681622, 0.7987478751458457, 0.8893911406811004, 0.9443629163083727, 0.9780209845613613, 0.9980117415356002]\n"
          ],
          "name": "stdout"
        }
      ]
    },
    {
      "cell_type": "code",
      "metadata": {
        "id": "f5A6Ml4OkIG_",
        "colab": {
          "base_uri": "https://localhost:8080/",
          "height": 622
        },
        "outputId": "8e82171f-24d0-4eb5-b880-6367d6f6230e"
      },
      "source": [
        "# Investigate the variance accounted for by each principal component.\n",
        "fig, ax = plt.subplots(figsize=(10,10))\n",
        "plt.plot(list_of_components,pca_explained_variance)\n",
        "plt.title(\"PCA n_components curve\")\n",
        "plt.ylabel(\"explained_variance_ratio\")\n",
        "plt.xlabel(\"n_components\")\n",
        "plt.show()\n"
      ],
      "execution_count": 84,
      "outputs": [
        {
          "output_type": "display_data",
          "data": {
            "image/png": "[encoded data removed]",
            "text/plain": [
              "<Figure size 720x720 with 1 Axes>"
            ]
          },
          "metadata": {
            "needs_background": "light"
          }
        }
      ]
    },
    {
      "cell_type": "code",
      "metadata": {
        "id": "d-kfV4WdkIG_",
        "colab": {
          "base_uri": "https://localhost:8080/"
        },
        "outputId": "25c66d18-6286-495a-ce4a-bd37afe8b9ab"
      },
      "source": [
        "# Re-apply PCA to the data while selecting for number of components to retain.\n",
        "new_pca = PCA(n_components = 35)\n",
        "reduced_azdias = new_pca.fit_transform(MiceImputed)\n",
        "print(\"The explained variance of new dataset: {}%\".format((np.sum(new_pca.explained_variance_ratio_) * 100)))\n",
        "print(\"The shape of data is {}\".format(reduced_azdias.shape))\n"
      ],
      "execution_count": 85,
      "outputs": [
        {
          "output_type": "stream",
          "text": [
            "The explained variance of new dataset: 91.45826186840533%\n",
            "The shape of data is (780182, 35)\n"
          ],
          "name": "stdout"
        }
      ]
    },
    {
      "cell_type": "code",
      "metadata": {
        "id": "gGkfZYCXjqHc"
      },
      "source": [
        ""
      ],
      "execution_count": null,
      "outputs": []
    },
    {
      "cell_type": "markdown",
      "metadata": {
        "id": "u9HzulHFkIHA"
      },
      "source": [
        "### Discussion 2.2: Perform Dimensionality Reduction\n",
        "\n",
        "\n",
        "For the pca step, I made a subplot of all the possible explained_varaince_ratio of objects with range(1, 70, 10) components. I plotted them all. I saw that pca curve started to decrease in rate of change in the interval 30 - 40 components so I reduced my model via PCA with n_components = 35 with a 91% explained variance ratio."
      ]
    },
    {
      "cell_type": "markdown",
      "metadata": {
        "id": "ljINPxrukIHA"
      },
      "source": [
        "### Step 2.3: Interpret Principal Components\n",
        "\n",
        "Now that we have our transformed principal components, it's a nice idea to check out the weight of each variable on the first few components to see if they can be interpreted in some fashion.\n",
        "\n",
        "As a reminder, each principal component is a unit vector that points in the direction of highest variance (after accounting for the variance captured by earlier principal components). The further a weight is from zero, the more the principal component is in the direction of the corresponding feature. If two features have large weights of the same sign (both positive or both negative), then increases in one tend expect to be associated with increases in the other. To contrast, features with different signs can be expected to show a negative correlation: increases in one variable should result in a decrease in the other.\n",
        "\n",
        "- To investigate the features, you should map each weight to their corresponding feature name, then sort the features according to weight. The most interesting features for each principal component, then, will be those at the beginning and end of the sorted list. Use the data dictionary document to help you understand these most prominent features, their relationships, and what a positive or negative value on the principal component might indicate.\n",
        "- You should investigate and interpret feature associations from the first three principal components in this substep. To help facilitate this, you should write a function that you can call at any time to print the sorted list of feature weights, for the *i*-th principal component. This might come in handy in the next step of the project, when you interpret the tendencies of the discovered clusters."
      ]
    },
    {
      "cell_type": "code",
      "metadata": {
        "id": "h40gxmQekIHA",
        "colab": {
          "base_uri": "https://localhost:8080/"
        },
        "outputId": "06c1e2e8-8a82-42bc-b277-e57afc115d67"
      },
      "source": [
        "# Map weights for the first principal component to corresponding feature names\n",
        "# and then print the linked values, sorted by weight.\n",
        "# HINT: Try defining a function here or in a new cell that you can reuse in the\n",
        "# other cells.\n",
        "def mapping_sort_pc(index, pca, names = azdias_columns):\n",
        "    \"\"\"Input: index of principal component list\"\"\"\n",
        "    pc_vector = pca.components_[index]   \n",
        "    mapping = {names[ii] : scalar for ii, scalar in enumerate(pc_vector)}\n",
        "    #Make positive go first in sort (personal preference)\n",
        "    sorted_map = sorted(mapping, key = mapping.get, reverse = True) \n",
        "    return sorted_map\n",
        "\n",
        "sorted_map_first_pca = mapping_sort_pc(0, new_pca)\n",
        "print(sorted_map_first_pca)"
      ],
      "execution_count": 86,
      "outputs": [
        {
          "output_type": "stream",
          "text": [
            "['PLZ8_ANTG3', 'PLZ8_ANTG4', 'CAMEO_INTL_2015_AFF', 'HH_EINKOMMEN_SCORE', 'ORTSGR_KLS9', 'EWDICHTE', 'FINANZ_HAUSBAUER', 'KBA05_ANTG4', 'PLZ8_ANTG2', 'ARBEIT', 'KBA05_ANTG3', 'ANZ_HAUSHALTE_AKTIV', 'FINANZ_SPARER', 'RELAT_AB', 'SEMIO_PFLICHT', 'SEMIO_REL', 'PRAEGENDE_JUGENDJAHRE_DEC', 'SEMIO_RAT', 'SEMIO_TRADV', 'REGIOTYP', 'SEMIO_MAT', 'SEMIO_FAM', 'SEMIO_KULT', 'FINANZ_UNAUFFAELLIGER', 'FINANZ_ANLEGER', 'OST_WEST_KZ', 'KKK', 'W_KEIT_KIND_HH', 'PLZ8_HHZ', 'SEMIO_KAEM', 'SEMIO_SOZ', 'ANZ_HH_TITEL', 'HEALTH_TYP', 'SEMIO_DOM', 'VERS_TYP', 'KBA05_ANTG2', 'ANREDE_KZ', 'SEMIO_KRIT', 'SOHO_KZ', 'ANZ_TITEL', 'RETOURTYP_BK_S', 'SEMIO_VERT', 'ONLINE_AFFINITAET', 'WOHNDAUER_2008', 'SEMIO_LUST', 'MIN_GEBAEUDEJAHR', 'SEMIO_ERL', 'KBA13_ANZAHL_PKW', 'ANZ_PERSONEN', 'FINANZ_VORSORGER', 'ALTERSKATEGORIE_GROB', 'GREEN_AVANTGARDE', 'PRAEGENDE_JUGENDJAHRE_MOVE', 'GEBAEUDETYP_RASTER', 'CAMEO_INTL_2015_FAM_STRUCT', 'BALLRAUM', 'INNENSTADT', 'PLZ8_GBZ', 'KONSUMNAEHE', 'FINANZ_MINIMALIST', 'KBA05_GBZ', 'PLZ8_ANTG1', 'KBA05_ANTG1', 'MOBI_REGIO']\n"
          ],
          "name": "stdout"
        }
      ]
    },
    {
      "cell_type": "code",
      "metadata": {
        "id": "NYCQnShSkIHA",
        "colab": {
          "base_uri": "https://localhost:8080/"
        },
        "outputId": "6fcb229c-2473-4725-b44c-28ba70958f70"
      },
      "source": [
        "# Map weights for the second principal component to corresponding feature names\n",
        "# and then print the linked values, sorted by weight.\n",
        "sorted_map_second_pca = mapping_sort_pc(1, new_pca)\n",
        "print(sorted_map_second_pca)\n"
      ],
      "execution_count": 87,
      "outputs": [
        {
          "output_type": "stream",
          "text": [
            "['ALTERSKATEGORIE_GROB', 'FINANZ_VORSORGER', 'SEMIO_ERL', 'SEMIO_LUST', 'RETOURTYP_BK_S', 'W_KEIT_KIND_HH', 'SEMIO_KRIT', 'FINANZ_HAUSBAUER', 'SEMIO_KAEM', 'ANREDE_KZ', 'PLZ8_ANTG3', 'EWDICHTE', 'ORTSGR_KLS9', 'PLZ8_ANTG4', 'FINANZ_MINIMALIST', 'SEMIO_DOM', 'CAMEO_INTL_2015_AFF', 'KBA05_ANTG4', 'WOHNDAUER_2008', 'ARBEIT', 'RELAT_AB', 'PLZ8_ANTG2', 'ANZ_HAUSHALTE_AKTIV', 'HH_EINKOMMEN_SCORE', 'KBA05_ANTG3', 'VERS_TYP', 'ANZ_HH_TITEL', 'REGIOTYP', 'OST_WEST_KZ', 'PLZ8_HHZ', 'ANZ_TITEL', 'CAMEO_INTL_2015_FAM_STRUCT', 'KKK', 'SOHO_KZ', 'KBA05_ANTG2', 'GREEN_AVANTGARDE', 'PRAEGENDE_JUGENDJAHRE_MOVE', 'KBA13_ANZAHL_PKW', 'GEBAEUDETYP_RASTER', 'MIN_GEBAEUDEJAHR', 'BALLRAUM', 'HEALTH_TYP', 'ANZ_PERSONEN', 'KONSUMNAEHE', 'PLZ8_GBZ', 'SEMIO_VERT', 'INNENSTADT', 'KBA05_ANTG1', 'PLZ8_ANTG1', 'MOBI_REGIO', 'KBA05_GBZ', 'SEMIO_SOZ', 'ONLINE_AFFINITAET', 'SEMIO_MAT', 'SEMIO_RAT', 'SEMIO_FAM', 'FINANZ_ANLEGER', 'SEMIO_KULT', 'FINANZ_UNAUFFAELLIGER', 'SEMIO_PFLICHT', 'SEMIO_TRADV', 'FINANZ_SPARER', 'SEMIO_REL', 'PRAEGENDE_JUGENDJAHRE_DEC']\n"
          ],
          "name": "stdout"
        }
      ]
    },
    {
      "cell_type": "code",
      "metadata": {
        "id": "LUvlyP2fkIHA",
        "colab": {
          "base_uri": "https://localhost:8080/"
        },
        "outputId": "c2321353-6f91-4139-a6ca-41901bbb8aa2"
      },
      "source": [
        "# Map weights for the third principal component to corresponding feature names\n",
        "# and then print the linked values, sorted by weight.\n",
        "sorted_map_third_pca = mapping_sort_pc(2, new_pca)\n",
        "print(sorted_map_third_pca)\n"
      ],
      "execution_count": 88,
      "outputs": [
        {
          "output_type": "stream",
          "text": [
            "['SEMIO_VERT', 'SEMIO_SOZ', 'SEMIO_FAM', 'SEMIO_KULT', 'FINANZ_MINIMALIST', 'RETOURTYP_BK_S', 'FINANZ_VORSORGER', 'W_KEIT_KIND_HH', 'ALTERSKATEGORIE_GROB', 'SEMIO_REL', 'SEMIO_LUST', 'SEMIO_MAT', 'GREEN_AVANTGARDE', 'PRAEGENDE_JUGENDJAHRE_MOVE', 'ORTSGR_KLS9', 'EWDICHTE', 'PLZ8_ANTG4', 'PLZ8_ANTG3', 'ARBEIT', 'WOHNDAUER_2008', 'RELAT_AB', 'PLZ8_ANTG2', 'KBA05_ANTG4', 'CAMEO_INTL_2015_AFF', 'VERS_TYP', 'ANZ_HAUSHALTE_AKTIV', 'OST_WEST_KZ', 'ANZ_HH_TITEL', 'ANZ_TITEL', 'KBA05_ANTG3', 'PLZ8_HHZ', 'REGIOTYP', 'SOHO_KZ', 'CAMEO_INTL_2015_FAM_STRUCT', 'ANZ_PERSONEN', 'KBA05_ANTG2', 'HEALTH_TYP', 'KKK', 'MIN_GEBAEUDEJAHR', 'HH_EINKOMMEN_SCORE', 'KBA13_ANZAHL_PKW', 'KBA05_ANTG1', 'KBA05_GBZ', 'GEBAEUDETYP_RASTER', 'MOBI_REGIO', 'BALLRAUM', 'KONSUMNAEHE', 'PLZ8_GBZ', 'INNENSTADT', 'PLZ8_ANTG1', 'FINANZ_HAUSBAUER', 'ONLINE_AFFINITAET', 'SEMIO_TRADV', 'SEMIO_PFLICHT', 'FINANZ_UNAUFFAELLIGER', 'FINANZ_SPARER', 'PRAEGENDE_JUGENDJAHRE_DEC', 'SEMIO_ERL', 'FINANZ_ANLEGER', 'SEMIO_RAT', 'SEMIO_KRIT', 'SEMIO_DOM', 'SEMIO_KAEM', 'ANREDE_KZ']\n"
          ],
          "name": "stdout"
        }
      ]
    },
    {
      "cell_type": "markdown",
      "metadata": {
        "id": "BuWTd2qokIHA"
      },
      "source": [
        "### Discussion 2.3: Interpret Principal Components\n",
        "\n",
        "in the first principle component we can see that number of family 6-10 is positively correlated and more than 10 can be negatively correlarated.\n",
        "\n",
        "in the second principle component the age is positively correlated too. I assume that the second pc is a combination of variables that expresses the relative naïvnes and lack of maturity in a person. If the person is less mature than the pc increases, but if the person is more mature than the pc decreases.\n",
        "\n",
        "in the third pc Personality typology is postively correlated factor. how affinity the person affects, however i think, if a person values money and work the most then the third pc decreases."
      ]
    },
    {
      "cell_type": "markdown",
      "metadata": {
        "id": "59El1u7jkIHA"
      },
      "source": [
        "## Step 3: Clustering\n",
        "\n",
        "### Step 3.1: Apply Clustering to General Population\n",
        "\n",
        "You've assessed and cleaned the demographics data, then scaled and transformed them. Now, it's time to see how the data clusters in the principal components space. In this substep, you will apply k-means clustering to the dataset and use the average within-cluster distances from each point to their assigned cluster's centroid to decide on a number of clusters to keep.\n",
        "\n",
        "- Use sklearn's [KMeans](http://scikit-learn.org/stable/modules/generated/sklearn.cluster.KMeans.html#sklearn.cluster.KMeans) class to perform k-means clustering on the PCA-transformed data.\n",
        "- Then, compute the average difference from each point to its assigned cluster's center. **Hint**: The KMeans object's `.score()` method might be useful here, but note that in sklearn, scores tend to be defined so that larger is better. Try applying it to a small, toy dataset, or use an internet search to help your understanding.\n",
        "- Perform the above two steps for a number of different cluster counts. You can then see how the average distance decreases with an increasing number of clusters. However, each additional cluster provides a smaller net benefit. Use this fact to select a final number of clusters in which to group the data. **Warning**: because of the large size of the dataset, it can take a long time for the algorithm to resolve. The more clusters to fit, the longer the algorithm will take. You should test for cluster counts through at least 10 clusters to get the full picture, but you shouldn't need to test for a number of clusters above about 30.\n",
        "- Once you've selected a final number of clusters to use, re-fit a KMeans instance to perform the clustering operation. Make sure that you also obtain the cluster assignments for the general demographics data, since you'll be using them in the final Step 3.3."
      ]
    },
    {
      "cell_type": "code",
      "metadata": {
        "id": "-6BG_PJvkIHA",
        "colab": {
          "base_uri": "https://localhost:8080/"
        },
        "outputId": "f8c3f724-2d13-4385-a560-2f4153923eaa"
      },
      "source": [
        "# Over a number of different cluster counts...\n",
        "n_of_clusters = list(range(1, 10))\n",
        "k_means_objects = [KMeans(n_clusters = cluster_amount) for cluster_amount in n_of_clusters]\n",
        "# run k-means clustering on the data and compute the average within-cluster distances.\n",
        "scores_for_kmeans = [np.abs(kmeans_object.fit(reduced_azdias).score(reduced_azdias)) for kmeans_object in k_means_objects]\n",
        "print(n_of_clusters)    \n",
        "    "
      ],
      "execution_count": 89,
      "outputs": [
        {
          "output_type": "stream",
          "text": [
            "[1, 2, 3, 4, 5, 6, 7, 8, 9]\n"
          ],
          "name": "stdout"
        }
      ]
    },
    {
      "cell_type": "code",
      "metadata": {
        "colab": {
          "base_uri": "https://localhost:8080/"
        },
        "id": "h75W63Jvnk8s",
        "outputId": "0dc32953-b68e-42e3-dff9-1ea925069813"
      },
      "source": [
        "#scores_for_kmeans = np.load(\"cluster_scores.npy\")\n",
        "print(scores_for_kmeans)"
      ],
      "execution_count": 90,
      "outputs": [
        {
          "output_type": "stream",
          "text": [
            "[45666617.383050345, 39190199.94253522, 35968214.336876325, 33897368.34001492, 32475526.82546858, 31226206.090382855, 30131409.77726351, 29273186.217012066, 28692032.306965116]\n"
          ],
          "name": "stdout"
        }
      ]
    },
    {
      "cell_type": "code",
      "metadata": {
        "id": "Wqa3bGc9kIHB",
        "colab": {
          "base_uri": "https://localhost:8080/",
          "height": 622
        },
        "outputId": "022318f9-6d58-40a6-b9c6-0d8e329289ef"
      },
      "source": [
        "# Investigate the change in within-cluster distance across number of clusters.\n",
        "# HINT: Use matplotlib's plot function to visualize this relationship.\n",
        "n_of_clusters = list(range(1, 10))\n",
        "fig, ax = plt.subplots(figsize=(10,10))\n",
        "plt.plot(n_of_clusters,scores_for_kmeans)\n",
        "plt.title(\"n_of_clusters and scores_for_kmeans curve\")\n",
        "plt.ylabel(\"scores_for_kmeans\")\n",
        "plt.xlabel(\"n_of_clusters\")\n",
        "plt.show()\n"
      ],
      "execution_count": 91,
      "outputs": [
        {
          "output_type": "display_data",
          "data": {
            "image/png": "[encoded data removed]",
            "text/plain": [
              "<Figure size 720x720 with 1 Axes>"
            ]
          },
          "metadata": {
            "needs_background": "light"
          }
        }
      ]
    },
    {
      "cell_type": "code",
      "metadata": {
        "id": "bcZ52bsdkIHB"
      },
      "source": [
        "# Re-fit the k-means model with the selected number of clusters and obtain\n",
        "# cluster predictions for the general population demographics data.\n",
        "best_k_means = KMeans(7)\n",
        "demographic_pred = best_k_means.fit_predict(reduced_azdias)\n"
      ],
      "execution_count": 92,
      "outputs": []
    },
    {
      "cell_type": "markdown",
      "metadata": {
        "id": "95rhpM0IkIHB"
      },
      "source": [
        "### Discussion 3.1: Apply Clustering to General Population\n",
        "\n",
        "for clustering i tried in 1,10 range but the elbow curve is about to be 7, so i decided to apply 7 clusters. the distance from one point to another was alot till it became 7 cluster it decreased."
      ]
    },
    {
      "cell_type": "markdown",
      "metadata": {
        "id": "6Ugx8d5TkIHB"
      },
      "source": [
        "### Step 3.2: Apply All Steps to the Customer Data\n",
        "\n",
        "Now that you have clusters and cluster centers for the general population, it's time to see how the customer data maps on to those clusters. Take care to not confuse this for re-fitting all of the models to the customer data. Instead, you're going to use the fits from the general population to clean, transform, and cluster the customer data. In the last step of the project, you will interpret how the general population fits apply to the customer data.\n",
        "\n",
        "- Don't forget when loading in the customers data, that it is semicolon (`;`) delimited.\n",
        "- Apply the same feature wrangling, selection, and engineering steps to the customer demographics using the `clean_data()` function you created earlier. (You can assume that the customer demographics data has similar meaning behind missing data patterns as the general demographics data.)\n",
        "- Use the sklearn objects from the general demographics data, and apply their transformations to the customers data. That is, you should not be using a `.fit()` or `.fit_transform()` method to re-fit the old objects, nor should you be creating new sklearn objects! Carry the data through the feature scaling, PCA, and clustering steps, obtaining cluster assignments for all of the data in the customer demographics data."
      ]
    },
    {
      "cell_type": "code",
      "metadata": {
        "id": "HHitalc8kIHB",
        "colab": {
          "resources": {
            "http://localhost:8080/nbextensions/google.colab/files.js": {
              "data": "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",
              "ok": true,
              "headers": [
                [
                  "content-type",
                  "application/javascript"
                ]
              ],
              "status": 200,
              "status_text": ""
            }
          },
          "base_uri": "https://localhost:8080/",
          "height": 296
        },
        "outputId": "dcfb50e5-2f79-4e2a-b807-160faf658e1f"
      },
      "source": [
        "# Load in the customer demographics data.\n",
        "# Load in the feature summary file.\n",
        "import io\n",
        "from google.colab import files\n",
        "uploaded = files.upload()\n",
        "customers = pd.read_csv(io.BytesIO(uploaded['Udacity_CUSTOMERS_Subset.csv']),delimiter=\";\") \n",
        "print(customers.shape)\n",
        "customers.head(4)"
      ],
      "execution_count": 93,
      "outputs": [
        {
          "output_type": "display_data",
          "data": {
            "text/html": [
              "\n",
              "     <input type=\"file\" id=\"files-3ff492bc-2117-4ecd-8ab9-1e6ef7f2cfb9\" name=\"files[]\" multiple disabled\n",
              "        style=\"border:none\" />\n",
              "     <output id=\"result-3ff492bc-2117-4ecd-8ab9-1e6ef7f2cfb9\">\n",
              "      Upload widget is only available when the cell has been executed in the\n",
              "      current browser session. Please rerun this cell to enable.\n",
              "      </output>\n",
              "      <script src=\"/nbextensions/google.colab/files.js\"></script> "
            ],
            "text/plain": [
              "<IPython.core.display.HTML object>"
            ]
          },
          "metadata": {}
        },
        {
          "output_type": "stream",
          "text": [
            "Saving Udacity_CUSTOMERS_Subset.csv to Udacity_CUSTOMERS_Subset.csv\n",
            "(191652, 85)\n"
          ],
          "name": "stdout"
        },
        {
          "output_type": "execute_result",
          "data": {
            "text/html": [
              "<div>\n",
              "<style scoped>\n",
              "    .dataframe tbody tr th:only-of-type {\n",
              "        vertical-align: middle;\n",
              "    }\n",
              "\n",
              "    .dataframe tbody tr th {\n",
              "        vertical-align: top;\n",
              "    }\n",
              "\n",
              "    .dataframe thead th {\n",
              "        text-align: right;\n",
              "    }\n",
              "</style>\n",
              "<table border=\"1\" class=\"dataframe\">\n",
              "  <thead>\n",
              "    <tr style=\"text-align: right;\">\n",
              "      <th></th>\n",
              "      <th>AGER_TYP</th>\n",
              "      <th>ALTERSKATEGORIE_GROB</th>\n",
              "      <th>ANREDE_KZ</th>\n",
              "      <th>CJT_GESAMTTYP</th>\n",
              "      <th>FINANZ_MINIMALIST</th>\n",
              "      <th>FINANZ_SPARER</th>\n",
              "      <th>FINANZ_VORSORGER</th>\n",
              "      <th>FINANZ_ANLEGER</th>\n",
              "      <th>FINANZ_UNAUFFAELLIGER</th>\n",
              "      <th>FINANZ_HAUSBAUER</th>\n",
              "      <th>FINANZTYP</th>\n",
              "      <th>GEBURTSJAHR</th>\n",
              "      <th>GFK_URLAUBERTYP</th>\n",
              "      <th>GREEN_AVANTGARDE</th>\n",
              "      <th>HEALTH_TYP</th>\n",
              "      <th>LP_LEBENSPHASE_FEIN</th>\n",
              "      <th>LP_LEBENSPHASE_GROB</th>\n",
              "      <th>LP_FAMILIE_FEIN</th>\n",
              "      <th>LP_FAMILIE_GROB</th>\n",
              "      <th>LP_STATUS_FEIN</th>\n",
              "      <th>LP_STATUS_GROB</th>\n",
              "      <th>NATIONALITAET_KZ</th>\n",
              "      <th>PRAEGENDE_JUGENDJAHRE</th>\n",
              "      <th>RETOURTYP_BK_S</th>\n",
              "      <th>SEMIO_SOZ</th>\n",
              "      <th>SEMIO_FAM</th>\n",
              "      <th>SEMIO_REL</th>\n",
              "      <th>SEMIO_MAT</th>\n",
              "      <th>SEMIO_VERT</th>\n",
              "      <th>SEMIO_LUST</th>\n",
              "      <th>SEMIO_ERL</th>\n",
              "      <th>SEMIO_KULT</th>\n",
              "      <th>SEMIO_RAT</th>\n",
              "      <th>SEMIO_KRIT</th>\n",
              "      <th>SEMIO_DOM</th>\n",
              "      <th>SEMIO_KAEM</th>\n",
              "      <th>SEMIO_PFLICHT</th>\n",
              "      <th>SEMIO_TRADV</th>\n",
              "      <th>SHOPPER_TYP</th>\n",
              "      <th>SOHO_KZ</th>\n",
              "      <th>...</th>\n",
              "      <th>ANZ_TITEL</th>\n",
              "      <th>HH_EINKOMMEN_SCORE</th>\n",
              "      <th>KK_KUNDENTYP</th>\n",
              "      <th>W_KEIT_KIND_HH</th>\n",
              "      <th>WOHNDAUER_2008</th>\n",
              "      <th>ANZ_HAUSHALTE_AKTIV</th>\n",
              "      <th>ANZ_HH_TITEL</th>\n",
              "      <th>GEBAEUDETYP</th>\n",
              "      <th>KONSUMNAEHE</th>\n",
              "      <th>MIN_GEBAEUDEJAHR</th>\n",
              "      <th>OST_WEST_KZ</th>\n",
              "      <th>WOHNLAGE</th>\n",
              "      <th>CAMEO_DEUG_2015</th>\n",
              "      <th>CAMEO_DEU_2015</th>\n",
              "      <th>CAMEO_INTL_2015</th>\n",
              "      <th>KBA05_ANTG1</th>\n",
              "      <th>KBA05_ANTG2</th>\n",
              "      <th>KBA05_ANTG3</th>\n",
              "      <th>KBA05_ANTG4</th>\n",
              "      <th>KBA05_BAUMAX</th>\n",
              "      <th>KBA05_GBZ</th>\n",
              "      <th>BALLRAUM</th>\n",
              "      <th>EWDICHTE</th>\n",
              "      <th>INNENSTADT</th>\n",
              "      <th>GEBAEUDETYP_RASTER</th>\n",
              "      <th>KKK</th>\n",
              "      <th>MOBI_REGIO</th>\n",
              "      <th>ONLINE_AFFINITAET</th>\n",
              "      <th>REGIOTYP</th>\n",
              "      <th>KBA13_ANZAHL_PKW</th>\n",
              "      <th>PLZ8_ANTG1</th>\n",
              "      <th>PLZ8_ANTG2</th>\n",
              "      <th>PLZ8_ANTG3</th>\n",
              "      <th>PLZ8_ANTG4</th>\n",
              "      <th>PLZ8_BAUMAX</th>\n",
              "      <th>PLZ8_HHZ</th>\n",
              "      <th>PLZ8_GBZ</th>\n",
              "      <th>ARBEIT</th>\n",
              "      <th>ORTSGR_KLS9</th>\n",
              "      <th>RELAT_AB</th>\n",
              "    </tr>\n",
              "  </thead>\n",
              "  <tbody>\n",
              "    <tr>\n",
              "      <th>0</th>\n",
              "      <td>2</td>\n",
              "      <td>4</td>\n",
              "      <td>1</td>\n",
              "      <td>5.0</td>\n",
              "      <td>5</td>\n",
              "      <td>1</td>\n",
              "      <td>5</td>\n",
              "      <td>1</td>\n",
              "      <td>2</td>\n",
              "      <td>2</td>\n",
              "      <td>2</td>\n",
              "      <td>0</td>\n",
              "      <td>4.0</td>\n",
              "      <td>1</td>\n",
              "      <td>1</td>\n",
              "      <td>20.0</td>\n",
              "      <td>5.0</td>\n",
              "      <td>2.0</td>\n",
              "      <td>2.0</td>\n",
              "      <td>10.0</td>\n",
              "      <td>5.0</td>\n",
              "      <td>1</td>\n",
              "      <td>4</td>\n",
              "      <td>5.0</td>\n",
              "      <td>6</td>\n",
              "      <td>5</td>\n",
              "      <td>2</td>\n",
              "      <td>6</td>\n",
              "      <td>6</td>\n",
              "      <td>7</td>\n",
              "      <td>3</td>\n",
              "      <td>4</td>\n",
              "      <td>1</td>\n",
              "      <td>3</td>\n",
              "      <td>1</td>\n",
              "      <td>1</td>\n",
              "      <td>2</td>\n",
              "      <td>1</td>\n",
              "      <td>3</td>\n",
              "      <td>0.0</td>\n",
              "      <td>...</td>\n",
              "      <td>0.0</td>\n",
              "      <td>1.0</td>\n",
              "      <td>NaN</td>\n",
              "      <td>6.0</td>\n",
              "      <td>9.0</td>\n",
              "      <td>1.0</td>\n",
              "      <td>0.0</td>\n",
              "      <td>1.0</td>\n",
              "      <td>5.0</td>\n",
              "      <td>1992.0</td>\n",
              "      <td>W</td>\n",
              "      <td>7.0</td>\n",
              "      <td>1</td>\n",
              "      <td>1A</td>\n",
              "      <td>13</td>\n",
              "      <td>2.0</td>\n",
              "      <td>2.0</td>\n",
              "      <td>0.0</td>\n",
              "      <td>0.0</td>\n",
              "      <td>0.0</td>\n",
              "      <td>4.0</td>\n",
              "      <td>3.0</td>\n",
              "      <td>2.0</td>\n",
              "      <td>4.0</td>\n",
              "      <td>4.0</td>\n",
              "      <td>1.0</td>\n",
              "      <td>4.0</td>\n",
              "      <td>3.0</td>\n",
              "      <td>1.0</td>\n",
              "      <td>1201.0</td>\n",
              "      <td>3.0</td>\n",
              "      <td>3.0</td>\n",
              "      <td>1.0</td>\n",
              "      <td>0.0</td>\n",
              "      <td>1.0</td>\n",
              "      <td>5.0</td>\n",
              "      <td>5.0</td>\n",
              "      <td>1.0</td>\n",
              "      <td>2.0</td>\n",
              "      <td>1.0</td>\n",
              "    </tr>\n",
              "    <tr>\n",
              "      <th>1</th>\n",
              "      <td>-1</td>\n",
              "      <td>4</td>\n",
              "      <td>1</td>\n",
              "      <td>NaN</td>\n",
              "      <td>5</td>\n",
              "      <td>1</td>\n",
              "      <td>5</td>\n",
              "      <td>1</td>\n",
              "      <td>3</td>\n",
              "      <td>2</td>\n",
              "      <td>2</td>\n",
              "      <td>0</td>\n",
              "      <td>NaN</td>\n",
              "      <td>0</td>\n",
              "      <td>1</td>\n",
              "      <td>NaN</td>\n",
              "      <td>NaN</td>\n",
              "      <td>NaN</td>\n",
              "      <td>NaN</td>\n",
              "      <td>NaN</td>\n",
              "      <td>NaN</td>\n",
              "      <td>1</td>\n",
              "      <td>0</td>\n",
              "      <td>NaN</td>\n",
              "      <td>3</td>\n",
              "      <td>6</td>\n",
              "      <td>2</td>\n",
              "      <td>6</td>\n",
              "      <td>7</td>\n",
              "      <td>5</td>\n",
              "      <td>3</td>\n",
              "      <td>4</td>\n",
              "      <td>1</td>\n",
              "      <td>3</td>\n",
              "      <td>3</td>\n",
              "      <td>2</td>\n",
              "      <td>4</td>\n",
              "      <td>1</td>\n",
              "      <td>3</td>\n",
              "      <td>0.0</td>\n",
              "      <td>...</td>\n",
              "      <td>0.0</td>\n",
              "      <td>NaN</td>\n",
              "      <td>NaN</td>\n",
              "      <td>0.0</td>\n",
              "      <td>9.0</td>\n",
              "      <td>NaN</td>\n",
              "      <td>NaN</td>\n",
              "      <td>NaN</td>\n",
              "      <td>5.0</td>\n",
              "      <td>NaN</td>\n",
              "      <td>NaN</td>\n",
              "      <td>NaN</td>\n",
              "      <td>NaN</td>\n",
              "      <td>NaN</td>\n",
              "      <td>NaN</td>\n",
              "      <td>NaN</td>\n",
              "      <td>NaN</td>\n",
              "      <td>NaN</td>\n",
              "      <td>NaN</td>\n",
              "      <td>NaN</td>\n",
              "      <td>NaN</td>\n",
              "      <td>NaN</td>\n",
              "      <td>NaN</td>\n",
              "      <td>NaN</td>\n",
              "      <td>NaN</td>\n",
              "      <td>NaN</td>\n",
              "      <td>NaN</td>\n",
              "      <td>NaN</td>\n",
              "      <td>NaN</td>\n",
              "      <td>NaN</td>\n",
              "      <td>NaN</td>\n",
              "      <td>NaN</td>\n",
              "      <td>NaN</td>\n",
              "      <td>NaN</td>\n",
              "      <td>NaN</td>\n",
              "      <td>NaN</td>\n",
              "      <td>NaN</td>\n",
              "      <td>NaN</td>\n",
              "      <td>NaN</td>\n",
              "      <td>NaN</td>\n",
              "    </tr>\n",
              "    <tr>\n",
              "      <th>2</th>\n",
              "      <td>-1</td>\n",
              "      <td>4</td>\n",
              "      <td>2</td>\n",
              "      <td>2.0</td>\n",
              "      <td>5</td>\n",
              "      <td>1</td>\n",
              "      <td>5</td>\n",
              "      <td>1</td>\n",
              "      <td>4</td>\n",
              "      <td>4</td>\n",
              "      <td>2</td>\n",
              "      <td>0</td>\n",
              "      <td>3.0</td>\n",
              "      <td>1</td>\n",
              "      <td>2</td>\n",
              "      <td>13.0</td>\n",
              "      <td>3.0</td>\n",
              "      <td>1.0</td>\n",
              "      <td>1.0</td>\n",
              "      <td>10.0</td>\n",
              "      <td>5.0</td>\n",
              "      <td>1</td>\n",
              "      <td>4</td>\n",
              "      <td>5.0</td>\n",
              "      <td>2</td>\n",
              "      <td>2</td>\n",
              "      <td>1</td>\n",
              "      <td>3</td>\n",
              "      <td>3</td>\n",
              "      <td>7</td>\n",
              "      <td>7</td>\n",
              "      <td>1</td>\n",
              "      <td>2</td>\n",
              "      <td>7</td>\n",
              "      <td>5</td>\n",
              "      <td>6</td>\n",
              "      <td>4</td>\n",
              "      <td>1</td>\n",
              "      <td>1</td>\n",
              "      <td>0.0</td>\n",
              "      <td>...</td>\n",
              "      <td>0.0</td>\n",
              "      <td>1.0</td>\n",
              "      <td>NaN</td>\n",
              "      <td>6.0</td>\n",
              "      <td>9.0</td>\n",
              "      <td>1.0</td>\n",
              "      <td>0.0</td>\n",
              "      <td>8.0</td>\n",
              "      <td>1.0</td>\n",
              "      <td>1992.0</td>\n",
              "      <td>W</td>\n",
              "      <td>2.0</td>\n",
              "      <td>5</td>\n",
              "      <td>5D</td>\n",
              "      <td>34</td>\n",
              "      <td>2.0</td>\n",
              "      <td>2.0</td>\n",
              "      <td>0.0</td>\n",
              "      <td>0.0</td>\n",
              "      <td>0.0</td>\n",
              "      <td>3.0</td>\n",
              "      <td>7.0</td>\n",
              "      <td>4.0</td>\n",
              "      <td>1.0</td>\n",
              "      <td>3.0</td>\n",
              "      <td>3.0</td>\n",
              "      <td>3.0</td>\n",
              "      <td>1.0</td>\n",
              "      <td>7.0</td>\n",
              "      <td>433.0</td>\n",
              "      <td>2.0</td>\n",
              "      <td>3.0</td>\n",
              "      <td>3.0</td>\n",
              "      <td>1.0</td>\n",
              "      <td>3.0</td>\n",
              "      <td>3.0</td>\n",
              "      <td>2.0</td>\n",
              "      <td>3.0</td>\n",
              "      <td>5.0</td>\n",
              "      <td>3.0</td>\n",
              "    </tr>\n",
              "    <tr>\n",
              "      <th>3</th>\n",
              "      <td>1</td>\n",
              "      <td>4</td>\n",
              "      <td>1</td>\n",
              "      <td>2.0</td>\n",
              "      <td>5</td>\n",
              "      <td>1</td>\n",
              "      <td>5</td>\n",
              "      <td>2</td>\n",
              "      <td>1</td>\n",
              "      <td>2</td>\n",
              "      <td>6</td>\n",
              "      <td>0</td>\n",
              "      <td>10.0</td>\n",
              "      <td>0</td>\n",
              "      <td>2</td>\n",
              "      <td>0.0</td>\n",
              "      <td>0.0</td>\n",
              "      <td>0.0</td>\n",
              "      <td>0.0</td>\n",
              "      <td>9.0</td>\n",
              "      <td>4.0</td>\n",
              "      <td>1</td>\n",
              "      <td>1</td>\n",
              "      <td>3.0</td>\n",
              "      <td>6</td>\n",
              "      <td>5</td>\n",
              "      <td>3</td>\n",
              "      <td>4</td>\n",
              "      <td>7</td>\n",
              "      <td>5</td>\n",
              "      <td>3</td>\n",
              "      <td>4</td>\n",
              "      <td>3</td>\n",
              "      <td>3</td>\n",
              "      <td>3</td>\n",
              "      <td>3</td>\n",
              "      <td>3</td>\n",
              "      <td>4</td>\n",
              "      <td>0</td>\n",
              "      <td>0.0</td>\n",
              "      <td>...</td>\n",
              "      <td>0.0</td>\n",
              "      <td>4.0</td>\n",
              "      <td>NaN</td>\n",
              "      <td>NaN</td>\n",
              "      <td>9.0</td>\n",
              "      <td>0.0</td>\n",
              "      <td>NaN</td>\n",
              "      <td>2.0</td>\n",
              "      <td>2.0</td>\n",
              "      <td>1992.0</td>\n",
              "      <td>W</td>\n",
              "      <td>7.0</td>\n",
              "      <td>4</td>\n",
              "      <td>4C</td>\n",
              "      <td>24</td>\n",
              "      <td>3.0</td>\n",
              "      <td>0.0</td>\n",
              "      <td>0.0</td>\n",
              "      <td>0.0</td>\n",
              "      <td>1.0</td>\n",
              "      <td>4.0</td>\n",
              "      <td>7.0</td>\n",
              "      <td>1.0</td>\n",
              "      <td>7.0</td>\n",
              "      <td>4.0</td>\n",
              "      <td>3.0</td>\n",
              "      <td>4.0</td>\n",
              "      <td>2.0</td>\n",
              "      <td>6.0</td>\n",
              "      <td>755.0</td>\n",
              "      <td>3.0</td>\n",
              "      <td>2.0</td>\n",
              "      <td>1.0</td>\n",
              "      <td>0.0</td>\n",
              "      <td>1.0</td>\n",
              "      <td>3.0</td>\n",
              "      <td>4.0</td>\n",
              "      <td>1.0</td>\n",
              "      <td>3.0</td>\n",
              "      <td>1.0</td>\n",
              "    </tr>\n",
              "  </tbody>\n",
              "</table>\n",
              "<p>4 rows × 85 columns</p>\n",
              "</div>"
            ],
            "text/plain": [
              "   AGER_TYP  ALTERSKATEGORIE_GROB  ANREDE_KZ  ...  ARBEIT  ORTSGR_KLS9  RELAT_AB\n",
              "0         2                     4          1  ...     1.0          2.0       1.0\n",
              "1        -1                     4          1  ...     NaN          NaN       NaN\n",
              "2        -1                     4          2  ...     3.0          5.0       3.0\n",
              "3         1                     4          1  ...     1.0          3.0       1.0\n",
              "\n",
              "[4 rows x 85 columns]"
            ]
          },
          "metadata": {},
          "execution_count": 93
        }
      ]
    },
    {
      "cell_type": "code",
      "metadata": {
        "id": "5-pQQ0YVkIHB",
        "colab": {
          "base_uri": "https://localhost:8080/"
        },
        "outputId": "9618fc3d-6143-4668-c676-b6bf176d4143"
      },
      "source": [
        "# Apply preprocessing, feature transformation, and clustering from the general\n",
        "# demographics onto the customer data, obtaining cluster predictions for the\n",
        "# customer demographics data.\n",
        "new_customer = clean_data(customers)\n",
        "customer_transformations = new_pca.transform(scaler.transform(mice_imputer.transform(new_customer)))\n",
        "print(\"After Feature Scaling: {}\".format(customer_transformations.shape))\n",
        "customer_pred = best_k_means.predict(customer_transformations)\n",
        "print(customer_pred.shape)"
      ],
      "execution_count": 94,
      "outputs": [
        {
          "output_type": "stream",
          "text": [
            "/usr/local/lib/python3.7/dist-packages/ipykernel_launcher.py:40: SettingWithCopyWarning: \n",
            "A value is trying to be set on a copy of a slice from a DataFrame.\n",
            "Try using .loc[row_indexer,col_indexer] = value instead\n",
            "\n",
            "See the caveats in the documentation: https://pandas.pydata.org/pandas-docs/stable/user_guide/indexing.html#returning-a-view-versus-a-copy\n"
          ],
          "name": "stderr"
        },
        {
          "output_type": "stream",
          "text": [
            "DataFrame shape: (139096, 64)\n",
            "After Feature Scaling: (139096, 35)\n",
            "(139096,)\n"
          ],
          "name": "stdout"
        }
      ]
    },
    {
      "cell_type": "markdown",
      "metadata": {
        "id": "bBcgzelZkIHB"
      },
      "source": [
        "### Step 3.3: Compare Customer Data to Demographics Data\n",
        "\n",
        "At this point, you have clustered data based on demographics of the general population of Germany, and seen how the customer data for a mail-order sales company maps onto those demographic clusters. In this final substep, you will compare the two cluster distributions to see where the strongest customer base for the company is.\n",
        "\n",
        "Consider the proportion of persons in each cluster for the general population, and the proportions for the customers. If we think the company's customer base to be universal, then the cluster assignment proportions should be fairly similar between the two. If there are only particular segments of the population that are interested in the company's products, then we should see a mismatch from one to the other. If there is a higher proportion of persons in a cluster for the customer data compared to the general population (e.g. 5% of persons are assigned to a cluster for the general population, but 15% of the customer data is closest to that cluster's centroid) then that suggests the people in that cluster to be a target audience for the company. On the other hand, the proportion of the data in a cluster being larger in the general population than the customer data (e.g. only 2% of customers closest to a population centroid that captures 6% of the data) suggests that group of persons to be outside of the target demographics.\n",
        "\n",
        "Take a look at the following points in this step:\n",
        "\n",
        "- Compute the proportion of data points in each cluster for the general population and the customer data. Visualizations will be useful here: both for the individual dataset proportions, but also to visualize the ratios in cluster representation between groups. Seaborn's [`countplot()`](https://seaborn.pydata.org/generated/seaborn.countplot.html) or [`barplot()`](https://seaborn.pydata.org/generated/seaborn.barplot.html) function could be handy.\n",
        "  - Recall the analysis you performed in step 1.1.3 of the project, where you separated out certain data points from the dataset if they had more than a specified threshold of missing values. If you found that this group was qualitatively different from the main bulk of the data, you should treat this as an additional data cluster in this analysis. Make sure that you account for the number of data points in this subset, for both the general population and customer datasets, when making your computations!\n",
        "- Which cluster or clusters are overrepresented in the customer dataset compared to the general population? Select at least one such cluster and infer what kind of people might be represented by that cluster. Use the principal component interpretations from step 2.3 or look at additional components to help you make this inference. Alternatively, you can use the `.inverse_transform()` method of the PCA and StandardScaler objects to transform centroids back to the original data space and interpret the retrieved values directly.\n",
        "- Perform a similar investigation for the underrepresented clusters. Which cluster or clusters are underrepresented in the customer dataset compared to the general population, and what kinds of people are typified by these clusters?"
      ]
    },
    {
      "cell_type": "code",
      "metadata": {
        "id": "rdqs8SfLkIHB",
        "colab": {
          "base_uri": "https://localhost:8080/",
          "height": 963
        },
        "outputId": "d0db0b43-97ef-4ca0-ff37-6918799036f7"
      },
      "source": [
        "# Compare the proportion of data in each cluster for the customer data to the\n",
        "# proportion of data in each cluster for the general population.\n",
        "\n",
        "\n",
        "figure, axs = plt.subplots(nrows=2, ncols=1, figsize = (20,15))\n",
        "figure.subplots_adjust(hspace = 0.2, wspace=.3)\n",
        "sns.countplot(customer_pred, ax = axs[0])\n",
        "axs[0].set_title('Amount of Customer values KMeans put in each cluster')\n",
        "sns.countplot(demographic_pred, ax = axs[1])\n",
        "axs[1].set_title('Amount of Demographic values KMeans put in each cluster')"
      ],
      "execution_count": 95,
      "outputs": [
        {
          "output_type": "stream",
          "text": [
            "/usr/local/lib/python3.7/dist-packages/seaborn/_decorators.py:43: FutureWarning: Pass the following variable as a keyword arg: x. From version 0.12, the only valid positional argument will be `data`, and passing other arguments without an explicit keyword will result in an error or misinterpretation.\n",
            "  FutureWarning\n",
            "/usr/local/lib/python3.7/dist-packages/seaborn/_decorators.py:43: FutureWarning: Pass the following variable as a keyword arg: x. From version 0.12, the only valid positional argument will be `data`, and passing other arguments without an explicit keyword will result in an error or misinterpretation.\n",
            "  FutureWarning\n"
          ],
          "name": "stderr"
        },
        {
          "output_type": "execute_result",
          "data": {
            "text/plain": [
              "Text(0.5, 1.0, 'Amount of Demographic values KMeans put in each cluster')"
            ]
          },
          "metadata": {},
          "execution_count": 95
        },
        {
          "output_type": "display_data",
          "data": {
            "image/png": "[encoded data removed]",
            "text/plain": [
              "<Figure size 1440x1080 with 2 Axes>"
            ]
          },
          "metadata": {
            "needs_background": "light"
          }
        }
      ]
    },
    {
      "cell_type": "code",
      "metadata": {
        "id": "PLl0iXYNkIHC",
        "colab": {
          "base_uri": "https://localhost:8080/"
        },
        "outputId": "c355a119-f77c-4013-9d98-3b7b620e6fde"
      },
      "source": [
        "# What kinds of people are part of a cluster that is overrepresented in the\n",
        "# customer data compared to the general population?\n",
        "over_rep_customer = [3, 6]\n",
        "# Get the center most values for all axises that make up a cluster\n",
        "# 30 features means 30 average values for features make up the average person in one cluster\n",
        "#Turn 30 complex reduced features to normal features by reversing pca and standard scalar\n",
        "for cluster_num in over_rep_customer:\n",
        "    expanded_feature_values = scaler.inverse_transform(new_pca.inverse_transform(best_k_means.cluster_centers_))\n",
        "    cluster_mapping = list(zip(new_customer.columns, expanded_feature_values[cluster_num]))\n",
        "    sorted_cluster_mapping = sorted(cluster_mapping, key = lambda x: x[1], reverse = True)\n",
        "    print(\"Cluster {}\".format(cluster_num))\n",
        "    print(\"Middle Values: {}\".format(sorted_cluster_mapping[10:-10]))\n",
        "    print(\"\\n\")"
      ],
      "execution_count": 96,
      "outputs": [
        {
          "output_type": "stream",
          "text": [
            "Cluster 3\n",
            "Middle Values: [('SEMIO_KRIT', 5.403574678293347), ('SEMIO_REL', 5.043549533036271), ('BALLRAUM', 4.966276382633098), ('SEMIO_MAT', 4.930807178862329), ('SEMIO_ERL', 4.413375418878198), ('FINANZ_ANLEGER', 4.377882199159185), ('HH_EINKOMMEN_SCORE', 4.00952642269101), ('GEBAEUDETYP_RASTER', 3.993627804192548), ('REGIOTYP', 3.9905553694849147), ('SEMIO_KULT', 3.977589973069824), ('KBA05_GBZ', 3.9772444074911224), ('FINANZ_SPARER', 3.950931494845139), ('PLZ8_GBZ', 3.9355608726988054), ('ORTSGR_KLS9', 3.9086541111390023), ('FINANZ_UNAUFFAELLIGER', 3.878621997156393), ('MOBI_REGIO', 3.8680099122160403), ('SEMIO_FAM', 3.7271273110949927), ('KONSUMNAEHE', 3.7223112614984264), ('ONLINE_AFFINITAET', 3.5899595534899236), ('PLZ8_HHZ', 3.532547552761924), ('W_KEIT_KIND_HH', 3.295107276669702), ('SEMIO_LUST', 3.260477058051758), ('CAMEO_INTL_2015_FAM_STRUCT', 3.2232872550016016), ('EWDICHTE', 2.944713676889682), ('ANZ_HAUSHALTE_AKTIV', 2.936038497733037), ('PLZ8_ANTG1', 2.8565444356075433), ('FINANZ_HAUSBAUER', 2.842406560625735), ('SEMIO_SOZ', 2.7419955088380332), ('ARBEIT', 2.72533137322439), ('SEMIO_VERT', 2.689263343997153), ('KKK', 2.5640829365600553), ('RETOURTYP_BK_S', 2.547456013572578), ('RELAT_AB', 2.48624171948015), ('CAMEO_INTL_2015_AFF', 2.48079967240987), ('PLZ8_ANTG2', 2.388443396987504), ('FINANZ_MINIMALIST', 2.360244854304764), ('FINANZ_VORSORGER', 2.3071835944994077), ('KBA05_ANTG1', 2.2799796762227067), ('HEALTH_TYP', 2.239072027442925), ('ANZ_PERSONEN', 1.979061499035737), ('ANREDE_KZ', 1.9364382167783043), ('ALTERSKATEGORIE_GROB', 1.877474330044745), ('VERS_TYP', 1.4013572154791532), ('KBA05_ANTG2', 1.300354259120993)]\n",
            "\n",
            "\n",
            "Cluster 6\n",
            "Middle Values: [('SEMIO_FAM', 4.801038238080517), ('FINANZ_MINIMALIST', 4.613125869217729), ('W_KEIT_KIND_HH', 4.194556099416356), ('SEMIO_ERL', 4.155413935275967), ('MOBI_REGIO', 4.142204108377837), ('KBA05_GBZ', 4.138321940743264), ('FINANZ_VORSORGER', 4.07466489887921), ('REGIOTYP', 4.05136924979718), ('ORTSGR_KLS9', 4.030477392072033), ('GEBAEUDETYP_RASTER', 4.028522197381028), ('PLZ8_GBZ', 3.889130972008588), ('KONSUMNAEHE', 3.795130811728502), ('RETOURTYP_BK_S', 3.795091802237258), ('SEMIO_REL', 3.795078670906891), ('SEMIO_MAT', 3.743888557501332), ('PLZ8_HHZ', 3.4628412790640213), ('CAMEO_INTL_2015_FAM_STRUCT', 3.423927616091877), ('SEMIO_KRIT', 3.412710149133854), ('SEMIO_PFLICHT', 3.36227985799159), ('HH_EINKOMMEN_SCORE', 3.2482863450979096), ('ALTERSKATEGORIE_GROB', 3.2272201501200284), ('SEMIO_DOM', 3.226438819118904), ('SEMIO_TRADV', 3.1606369192239105), ('EWDICHTE', 3.0011226989187167), ('ONLINE_AFFINITAET', 2.947241666034933), ('PLZ8_ANTG1', 2.9121744392731146), ('ARBEIT', 2.7607161642786), ('SEMIO_RAT', 2.7540990962611076), ('SEMIO_KAEM', 2.60390012508099), ('KKK', 2.5911085906678744), ('KBA05_ANTG1', 2.5848937577818125), ('RELAT_AB', 2.530654307982621), ('PLZ8_ANTG2', 2.328232627361589), ('CAMEO_INTL_2015_AFF', 2.284621363258116), ('HEALTH_TYP', 2.241892534827048), ('FINANZ_UNAUFFAELLIGER', 2.089624071152704), ('ANZ_PERSONEN', 2.0365989273939173), ('ANZ_HAUSHALTE_AKTIV', 2.029897204701081), ('FINANZ_ANLEGER', 1.996278912854972), ('FINANZ_HAUSBAUER', 1.9675100811763693), ('FINANZ_SPARER', 1.7921985057928036), ('VERS_TYP', 1.5733883726261053), ('KBA05_ANTG2', 1.1151926514677502), ('ANREDE_KZ', 1.0691299333220181)]\n",
            "\n",
            "\n"
          ],
          "name": "stdout"
        }
      ]
    },
    {
      "cell_type": "code",
      "metadata": {
        "id": "LmaD4qxVkIHC",
        "colab": {
          "base_uri": "https://localhost:8080/"
        },
        "outputId": "c995b661-4ee5-4eff-e51f-124ada8c915e"
      },
      "source": [
        "# What kinds of people are part of a cluster that is underrepresented in the\n",
        "# customer data compared to the general population?\n",
        "under_rep_customer = [0, 4, 5]\n",
        "for cluster_num in under_rep_customer:\n",
        "    expanded_feature_values = scaler.inverse_transform(new_pca.inverse_transform(best_k_means.cluster_centers_))\n",
        "    cluster_mapping = list(zip(new_customer.columns, expanded_feature_values[cluster_num]))\n",
        "    sorted_cluster_mapping = sorted(cluster_mapping, key = lambda x: x[1], reverse = True)\n",
        "    print(\"Cluster {}\".format(cluster_num))\n",
        "    print(\"Middle Values: {}\".format(sorted_cluster_mapping[10:-10]))\n",
        "    print(\"\\n\")\n"
      ],
      "execution_count": 97,
      "outputs": [
        {
          "output_type": "stream",
          "text": [
            "Cluster 0\n",
            "Middle Values: [('EWDICHTE', 5.029708943160244), ('W_KEIT_KIND_HH', 4.945307232552148), ('SEMIO_SOZ', 4.944836269065221), ('SEMIO_LUST', 4.9443598858666675), ('REGIOTYP', 4.8940290927705234), ('RETOURTYP_BK_S', 4.340171379013975), ('CAMEO_INTL_2015_AFF', 4.308595583665384), ('SEMIO_MAT', 4.2902726821353525), ('SEMIO_ERL', 4.1360408261618185), ('FINANZ_VORSORGER', 4.0163971257639774), ('SEMIO_REL', 3.917842692425147), ('SEMIO_KRIT', 3.8327855843593452), ('PLZ8_HHZ', 3.74154189475407), ('RELAT_AB', 3.696205566495295), ('ARBEIT', 3.6441757271196296), ('FINANZ_HAUSBAUER', 3.5525005077809952), ('INNENSTADT', 3.463148585387741), ('GEBAEUDETYP_RASTER', 3.3814012132246383), ('SEMIO_DOM', 3.381176315935237), ('SEMIO_PFLICHT', 3.380328520144438), ('PLZ8_ANTG2', 3.295493873874697), ('ALTERSKATEGORIE_GROB', 3.279412882147335), ('BALLRAUM', 3.2486284616656578), ('FINANZ_MINIMALIST', 3.241202560901383), ('SEMIO_TRADV', 2.9587626386799997), ('SEMIO_KAEM', 2.907501725841141), ('KKK', 2.859072085485828), ('PLZ8_GBZ', 2.7644411560897817), ('SEMIO_RAT', 2.6673279711261344), ('HEALTH_TYP', 2.426355156984076), ('PLZ8_ANTG3', 2.343048580661947), ('CAMEO_INTL_2015_FAM_STRUCT', 2.317482772743575), ('KBA05_GBZ', 2.173879691632272), ('KONSUMNAEHE', 2.153629721306019), ('FINANZ_SPARER', 2.143504276767053), ('FINANZ_UNAUFFAELLIGER', 1.8698900455140124), ('ONLINE_AFFINITAET', 1.867137558802332), ('MOBI_REGIO', 1.8045581138064295), ('FINANZ_ANLEGER', 1.7279891260372013), ('VERS_TYP', 1.6701945103724385), ('PLZ8_ANTG1', 1.512767301542929), ('ANZ_PERSONEN', 1.4002560191282036), ('KBA05_ANTG2', 1.3126275508590084), ('PLZ8_ANTG4', 1.2214926913707889)]\n",
            "\n",
            "\n",
            "Cluster 4\n",
            "Middle Values: [('HH_EINKOMMEN_SCORE', 5.464334331118399), ('SEMIO_LUST', 5.343796911170703), ('EWDICHTE', 4.897516181289518), ('W_KEIT_KIND_HH', 4.889062267566533), ('REGIOTYP', 4.766608847903448), ('FINANZ_HAUSBAUER', 4.360079936164755), ('FINANZ_VORSORGER', 4.304502249056455), ('RETOURTYP_BK_S', 4.231545306000208), ('CAMEO_INTL_2015_AFF', 4.209766412533897), ('PLZ8_HHZ', 3.739806300542228), ('INNENSTADT', 3.7113855386620043), ('RELAT_AB', 3.6377608647070376), ('ARBEIT', 3.5778089781684175), ('ALTERSKATEGORIE_GROB', 3.5574740301396774), ('GEBAEUDETYP_RASTER', 3.4719007931701356), ('BALLRAUM', 3.4452080043346403), ('SEMIO_RAT', 3.400243244338085), ('PLZ8_ANTG2', 3.2731610316072417), ('SEMIO_SOZ', 3.2439287842143543), ('SEMIO_PFLICHT', 2.9167545504364747), ('PLZ8_GBZ', 2.8749363689971466), ('KKK', 2.829241289199406), ('SEMIO_VERT', 2.69821190472544), ('CAMEO_INTL_2015_FAM_STRUCT', 2.6763622663456172), ('FINANZ_MINIMALIST', 2.5068143042729663), ('SEMIO_TRADV', 2.44033890857029), ('SEMIO_MAT', 2.4382843648940775), ('KONSUMNAEHE', 2.272814793221386), ('PLZ8_ANTG3', 2.2591139276498007), ('FINANZ_ANLEGER', 2.252727556494573), ('SEMIO_FAM', 2.1948564389030225), ('KBA05_GBZ', 2.1799329072696114), ('SEMIO_REL', 2.042933347340833), ('HEALTH_TYP', 1.9923825490595386), ('ANREDE_KZ', 1.9800989703882295), ('FINANZ_SPARER', 1.8936873806072443), ('SEMIO_KULT', 1.8523355567251873), ('MOBI_REGIO', 1.8476781046302626), ('FINANZ_UNAUFFAELLIGER', 1.7214495319837702), ('ONLINE_AFFINITAET', 1.701466189850109), ('VERS_TYP', 1.624790675942672), ('PLZ8_ANTG1', 1.615054120815574), ('ANZ_PERSONEN', 1.3801202384180034), ('KBA05_ANTG2', 1.354809752690751)]\n",
            "\n",
            "\n",
            "Cluster 5\n",
            "Middle Values: [('SEMIO_PFLICHT', 5.824550405008261), ('ORTSGR_KLS9', 5.5558148318593075), ('SEMIO_MAT', 5.1356232233774675), ('SEMIO_TRADV', 5.039946355564708), ('HH_EINKOMMEN_SCORE', 4.783114500321224), ('REGIOTYP', 4.498040166713698), ('INNENSTADT', 4.3823192455378495), ('FINANZ_SPARER', 4.322657231077554), ('SEMIO_RAT', 4.244583629974738), ('W_KEIT_KIND_HH', 4.147361736935425), ('EWDICHTE', 4.115296250613236), ('BALLRAUM', 4.037267356211226), ('FINANZ_UNAUFFAELLIGER', 3.955833819210064), ('FINANZ_ANLEGER', 3.793634975042082), ('PLZ8_HHZ', 3.680768194382048), ('GEBAEUDETYP_RASTER', 3.669252909332781), ('CAMEO_INTL_2015_AFF', 3.5466173768096243), ('ONLINE_AFFINITAET', 3.3430092357046988), ('PLZ8_GBZ', 3.309433551790225), ('ARBEIT', 3.2936547235637326), ('RELAT_AB', 3.226295122321453), ('FINANZ_HAUSBAUER', 3.1376772702817277), ('KBA05_GBZ', 3.021718576102557), ('PLZ8_ANTG2', 2.9411598314166216), ('SEMIO_LUST', 2.87245449869782), ('KONSUMNAEHE', 2.8061582298229375), ('KKK', 2.755293278016589), ('MOBI_REGIO', 2.715534331314511), ('SEMIO_DOM', 2.6307306984972856), ('CAMEO_INTL_2015_FAM_STRUCT', 2.5855945394390085), ('RETOURTYP_BK_S', 2.580336629849095), ('SEMIO_KRIT', 2.5431405828622022), ('FINANZ_MINIMALIST', 2.29361871701248), ('HEALTH_TYP', 2.203667065589855), ('SEMIO_KAEM', 2.1642486478798544), ('FINANZ_VORSORGER', 2.1149878995590523), ('PLZ8_ANTG1', 2.1009679047265255), ('SEMIO_ERL', 2.051799708765718), ('PLZ8_ANTG3', 1.7531197110063816), ('ALTERSKATEGORIE_GROB', 1.7361854354136805), ('ANZ_PERSONEN', 1.7157782523828846), ('VERS_TYP', 1.4566671205199682), ('KBA05_ANTG2', 1.4127371633239587), ('KBA05_ANTG1', 1.2504110636846184)]\n",
            "\n",
            "\n"
          ],
          "name": "stdout"
        }
      ]
    },
    {
      "cell_type": "markdown",
      "metadata": {
        "id": "XuebDKNgkIHC"
      },
      "source": [
        "### Discussion 3.3: Compare Customer Data to Demographics Data\n",
        "\n",
        "Yes, I noticed some patterns that were pretty interesting. I saw that clusters where it was shown that mail orders were less popular with customers that were movers that liked to return.\n",
        "\n",
        "I also noticed that the mail order was popular with financial minimalists that had an online affinity.\n",
        "\n",
        "regarding overrepresented, for cluster 3 it is obvious that MOBI_REGIO affecting the clustering results, for customer data most of the customers in this cluster but for general data not, that the movement highly affected the result. for cluster 6 SEMIO_KRIT affects the result that Personality typology is highly important for this cluster.\n",
        "\n",
        "\n",
        "but for underrepresented, i found cluster 0, 4,5,\n",
        "for cluster 0 the results is pretty close and W_KEIT_KIND_HH has a weight in both datasets. for 4,5 specially 5 it seems like SEMIO_FAM highly affected both general and customer data.\n",
        "\n"
      ]
    },
    {
      "cell_type": "markdown",
      "metadata": {
        "id": "cn5ojMJ8kIHC"
      },
      "source": [
        "> Congratulations on making it this far in the project! Before you finish, make sure to check through the entire notebook from top to bottom to make sure that your analysis follows a logical flow and all of your findings are documented in **Discussion** cells. Once you've checked over all of your work, you should export the notebook as an HTML document to submit for evaluation. You can do this from the menu, navigating to **File -> Download as -> HTML (.html)**. You will submit both that document and this notebook for your project submission."
      ]
    },
    {
      "cell_type": "code",
      "metadata": {
        "id": "WHhKX6zOw27D"
      },
      "source": [
        ""
      ],
      "execution_count": null,
      "outputs": []
    }
  ]
}